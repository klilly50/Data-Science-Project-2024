{
 "cells": [
  {
   "cell_type": "code",
   "execution_count": 42,
   "metadata": {},
   "outputs": [],
   "source": [
    "import pandas as pd"
   ]
  },
  {
   "cell_type": "code",
   "execution_count": 43,
   "metadata": {},
   "outputs": [],
   "source": [
    "df=pd.read_csv('data/cleaned_months_with_type_colon_2005.csv',parse_dates=['CheckoutDate'])"
   ]
  },
  {
   "cell_type": "code",
   "execution_count": null,
   "metadata": {},
   "outputs": [],
   "source": [
    "pd.set_option('display.max_columns', None)\n",
    "df.head()"
   ]
  },
  {
   "cell_type": "code",
   "execution_count": null,
   "metadata": {},
   "outputs": [],
   "source": [
    "#The way we head in the file turns \"CheckoutDate\" (which is the time it was first checkout out) into a datetime.\n",
    "# We also want to say that the columns for each month are date times\n",
    "\n",
    "\n",
    "#We saw above that the first 10 columns are categorical, and then the rest are datetimes. So, we tell pandas that these column names are datetimes\n",
    "\n",
    "newmonthcolumns=pd.to_datetime (df.columns[10:])\n",
    "\n",
    "newcolumns=df.columns[:10].append(newmonthcolumns)\n",
    "\n",
    "df.columns=newcolumns\n"
   ]
  },
  {
   "cell_type": "code",
   "execution_count": null,
   "metadata": {},
   "outputs": [],
   "source": [
    "df.head()"
   ]
  },
  {
   "cell_type": "code",
   "execution_count": null,
   "metadata": {},
   "outputs": [],
   "source": [
    "dates_to_sum=pd.date_range(start=(df.loc[0].CheckoutDate), end=(df.loc[0].CheckoutDate)+pd.DateOffset(months=11),freq='MS' )\n",
    "\n",
    "print(dates_to_sum)\n",
    "\n",
    "type(dates_to_sum)\n",
    "\n",
    "testcheckout=0\n",
    "for x in dates_to_sum:\n",
    "    testcheckout=testcheckout+df.loc[0][x]\n",
    "print(testcheckout)"
   ]
  },
  {
   "cell_type": "code",
   "execution_count": null,
   "metadata": {},
   "outputs": [],
   "source": [
    "#given a row in the dataframe (i.e. a title), this function will return how many times that title was checked out in the first year (counting from first checkout date)\n",
    "def checkouts_in_first_year(row):\n",
    "    startmonth=row['CheckoutDate']\n",
    "    #we don't want to add in months outside of our data set, so if a title is first checked out after September of 2024 we'll only add up through August of 2024\n",
    "    if startmonth <= pd.to_datetime('2023-09-01'):\n",
    "        dates_to_sum=pd.date_range(start=startmonth, end=startmonth+pd.DateOffset(months=11),freq='MS')\n",
    "    else:\n",
    "        dates_to_sum=pd.date_range(start=startmonth, end='2024-08-01', freq='MS')\n",
    "\n",
    "    checkout=0\n",
    "    for month in dates_to_sum:\n",
    "        checkout=checkout+row[month]\n",
    "    return checkout        \n",
    "\n",
    "checkouts_in_first_year(df.loc[0])"
   ]
  },
  {
   "cell_type": "code",
   "execution_count": 65,
   "metadata": {},
   "outputs": [],
   "source": [
    "df['TotalCheckoutsInFirstYear']=df.apply(checkouts_in_first_year, axis=1)"
   ]
  },
  {
   "cell_type": "code",
   "execution_count": null,
   "metadata": {},
   "outputs": [],
   "source": [
    "df.head()"
   ]
  },
  {
   "cell_type": "code",
   "execution_count": 67,
   "metadata": {},
   "outputs": [],
   "source": [
    "df.to_csv('data/titleswithfirstyearcheckoutsadded.csv')"
   ]
  },
  {
   "cell_type": "code",
   "execution_count": null,
   "metadata": {},
   "outputs": [],
   "source": []
  }
 ],
 "metadata": {
  "kernelspec": {
   "display_name": "erdos_fall_2024",
   "language": "python",
   "name": "python3"
  },
  "language_info": {
   "codemirror_mode": {
    "name": "ipython",
    "version": 3
   },
   "file_extension": ".py",
   "mimetype": "text/x-python",
   "name": "python",
   "nbconvert_exporter": "python",
   "pygments_lexer": "ipython3",
   "version": "3.12.5"
  }
 },
 "nbformat": 4,
 "nbformat_minor": 2
}
