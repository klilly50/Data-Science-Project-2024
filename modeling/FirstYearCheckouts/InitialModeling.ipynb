{
 "cells": [
  {
   "cell_type": "code",
   "execution_count": 2,
   "metadata": {},
   "outputs": [],
   "source": [
    "import pandas as pd\n",
    "import numpy as np\n",
    "import re\n",
    "import matplotlib.pyplot as plt\n",
    "import seaborn as sns\n",
    "import datetime\n",
    "import warnings\n",
    "sns.set_style(\"whitegrid\")"
   ]
  },
  {
   "cell_type": "code",
   "execution_count": 3,
   "metadata": {},
   "outputs": [
    {
     "data": {
      "text/html": [
       "<div>\n",
       "<style scoped>\n",
       "    .dataframe tbody tr th:only-of-type {\n",
       "        vertical-align: middle;\n",
       "    }\n",
       "\n",
       "    .dataframe tbody tr th {\n",
       "        vertical-align: top;\n",
       "    }\n",
       "\n",
       "    .dataframe thead th {\n",
       "        text-align: right;\n",
       "    }\n",
       "</style>\n",
       "<table border=\"1\" class=\"dataframe\">\n",
       "  <thead>\n",
       "    <tr style=\"text-align: right;\">\n",
       "      <th></th>\n",
       "      <th>Title</th>\n",
       "      <th>Creator</th>\n",
       "      <th>UsageClass</th>\n",
       "      <th>MaterialType</th>\n",
       "      <th>Genre</th>\n",
       "      <th>CleanedPublisher</th>\n",
       "      <th>CheckoutMonth</th>\n",
       "      <th>CheckoutYear</th>\n",
       "      <th>PreviousYearCheckoutsSum</th>\n",
       "      <th>PreviousYearCheckoutsMean</th>\n",
       "      <th>PreviousYearPublished</th>\n",
       "      <th>PreviousYearPublishedMean</th>\n",
       "      <th>FirstYearCheckouts</th>\n",
       "    </tr>\n",
       "  </thead>\n",
       "  <tbody>\n",
       "    <tr>\n",
       "      <th>0</th>\n",
       "      <td>American seafood : heritage, culture &amp; cookery...</td>\n",
       "      <td>Seaver, Barton</td>\n",
       "      <td>Physical</td>\n",
       "      <td>BOOK</td>\n",
       "      <td>other</td>\n",
       "      <td>other publisher</td>\n",
       "      <td>1</td>\n",
       "      <td>2018</td>\n",
       "      <td>113</td>\n",
       "      <td>2.670833</td>\n",
       "      <td>1</td>\n",
       "      <td>62.046138</td>\n",
       "      <td>9</td>\n",
       "    </tr>\n",
       "    <tr>\n",
       "      <th>1</th>\n",
       "      <td>The runaway pea / Kjartan Poskitt &amp; Alex Willm...</td>\n",
       "      <td>Poskitt, Kjartan</td>\n",
       "      <td>Physical</td>\n",
       "      <td>BOOK</td>\n",
       "      <td>juvenile</td>\n",
       "      <td>simon &amp; schuster</td>\n",
       "      <td>2</td>\n",
       "      <td>2022</td>\n",
       "      <td>36</td>\n",
       "      <td>1.270833</td>\n",
       "      <td>2</td>\n",
       "      <td>0.000000</td>\n",
       "      <td>167</td>\n",
       "    </tr>\n",
       "    <tr>\n",
       "      <th>2</th>\n",
       "      <td>What the cat dragged in / Miranda James.</td>\n",
       "      <td>James, Miranda</td>\n",
       "      <td>Physical</td>\n",
       "      <td>BOOK</td>\n",
       "      <td>mystery</td>\n",
       "      <td>other publisher</td>\n",
       "      <td>9</td>\n",
       "      <td>2021</td>\n",
       "      <td>487</td>\n",
       "      <td>2.027593</td>\n",
       "      <td>1</td>\n",
       "      <td>0.000000</td>\n",
       "      <td>31</td>\n",
       "    </tr>\n",
       "    <tr>\n",
       "      <th>3</th>\n",
       "      <td>R.F.K. : a photographer's journal / Harry Benson.</td>\n",
       "      <td>Benson, Harry</td>\n",
       "      <td>Physical</td>\n",
       "      <td>BOOK</td>\n",
       "      <td>history</td>\n",
       "      <td>other publisher</td>\n",
       "      <td>11</td>\n",
       "      <td>2008</td>\n",
       "      <td>0</td>\n",
       "      <td>0.000000</td>\n",
       "      <td>1</td>\n",
       "      <td>63.876983</td>\n",
       "      <td>12</td>\n",
       "    </tr>\n",
       "    <tr>\n",
       "      <th>4</th>\n",
       "      <td>Ice Drift</td>\n",
       "      <td>Theodore Taylor</td>\n",
       "      <td>Digital</td>\n",
       "      <td>EBOOK</td>\n",
       "      <td>juvenile</td>\n",
       "      <td>harpercollins</td>\n",
       "      <td>11</td>\n",
       "      <td>2013</td>\n",
       "      <td>36</td>\n",
       "      <td>1.322222</td>\n",
       "      <td>2</td>\n",
       "      <td>0.000000</td>\n",
       "      <td>4</td>\n",
       "    </tr>\n",
       "  </tbody>\n",
       "</table>\n",
       "</div>"
      ],
      "text/plain": [
       "                                               Title           Creator  \\\n",
       "0  American seafood : heritage, culture & cookery...    Seaver, Barton   \n",
       "1  The runaway pea / Kjartan Poskitt & Alex Willm...  Poskitt, Kjartan   \n",
       "2           What the cat dragged in / Miranda James.    James, Miranda   \n",
       "3  R.F.K. : a photographer's journal / Harry Benson.     Benson, Harry   \n",
       "4                                          Ice Drift   Theodore Taylor   \n",
       "\n",
       "  UsageClass MaterialType     Genre  CleanedPublisher  CheckoutMonth  \\\n",
       "0   Physical         BOOK     other   other publisher              1   \n",
       "1   Physical         BOOK  juvenile  simon & schuster              2   \n",
       "2   Physical         BOOK   mystery   other publisher              9   \n",
       "3   Physical         BOOK   history   other publisher             11   \n",
       "4    Digital        EBOOK  juvenile     harpercollins             11   \n",
       "\n",
       "   CheckoutYear  PreviousYearCheckoutsSum  PreviousYearCheckoutsMean  \\\n",
       "0          2018                       113                   2.670833   \n",
       "1          2022                        36                   1.270833   \n",
       "2          2021                       487                   2.027593   \n",
       "3          2008                         0                   0.000000   \n",
       "4          2013                        36                   1.322222   \n",
       "\n",
       "   PreviousYearPublished  PreviousYearPublishedMean  FirstYearCheckouts  \n",
       "0                      1                  62.046138                   9  \n",
       "1                      2                   0.000000                 167  \n",
       "2                      1                   0.000000                  31  \n",
       "3                      1                  63.876983                  12  \n",
       "4                      2                   0.000000                   4  "
      ]
     },
     "execution_count": 3,
     "metadata": {},
     "output_type": "execute_result"
    }
   ],
   "source": [
    "#Read in cleaned data\n",
    "#df_train = pd.read_csv('data/cleaned_train_2005.csv')\n",
    "df_train = pd.read_csv('data/cleaned_train_full_2005.csv')\n",
    "df_train.head()"
   ]
  },
  {
   "cell_type": "markdown",
   "metadata": {},
   "source": [
    "## Baseline Model: \n",
    "\n",
    "For our baseline model, we predict the number of first year checkouts for a library item as the average of all the first year checkout data. "
   ]
  },
  {
   "cell_type": "code",
   "execution_count": 4,
   "metadata": {},
   "outputs": [],
   "source": [
    "from sklearn.model_selection import KFold\n",
    "from sklearn.metrics import root_mean_squared_error"
   ]
  },
  {
   "cell_type": "code",
   "execution_count": 5,
   "metadata": {},
   "outputs": [],
   "source": [
    "## Make KFold object to be used on training dataset\n",
    "kfold = KFold(n_splits = 5,\n",
    "              shuffle = True,\n",
    "              random_state = 216)"
   ]
  },
  {
   "cell_type": "code",
   "execution_count": null,
   "metadata": {},
   "outputs": [],
   "source": [
    "rmses = np.zeros(5)\n",
    "\n",
    "for i, (train_index, test_index) in enumerate(kfold.split(df_train, df_train['FirstYearCheckouts'])):\n",
    "    ## get the kfold training and holdout data\n",
    "    X_tt = df_train.iloc[train_index]\n",
    "    X_ho = df_train.iloc[test_index]\n",
    "\n",
    "    #Get average of the first year checkouts for our train set \n",
    "    baseline_pred = np.ones(len(X_ho)) * X_tt['FirstYearCheckouts'].mean() \n",
    "\n",
    "    ## Record the rmses\n",
    "    rmses[i] = root_mean_squared_error(X_ho['FirstYearCheckouts'], baseline_pred)"
   ]
  },
  {
   "cell_type": "code",
   "execution_count": 12,
   "metadata": {},
   "outputs": [
    {
     "name": "stdout",
     "output_type": "stream",
     "text": [
      "[114.72254652 121.97266529 109.23361391 118.73402191 115.23831321]\n",
      "115.98023216785975\n"
     ]
    }
   ],
   "source": [
    "print(rmses)\n",
    "print(rmses.mean())"
   ]
  },
  {
   "cell_type": "code",
   "execution_count": 84,
   "metadata": {},
   "outputs": [
    {
     "name": "stdout",
     "output_type": "stream",
     "text": [
      "The average number of first year checkouts for the whole training dataset is 44.87509717142807\n",
      "The median number of first year checkouts in our dataset is 21.0\n",
      "The minimum and maximum first year checkouts in our dataset are 1 and 9633 respectively\n"
     ]
    }
   ],
   "source": [
    "print('The average number of first year checkouts for the whole training dataset is', df_train['FirstYearCheckouts'].mean())\n",
    "print('The median number of first year checkouts in our dataset is', np.median(df_train['FirstYearCheckouts']))\n",
    "print('The minimum and maximum first year checkouts in our dataset are', df_train['FirstYearCheckouts'].min(), \\\n",
    "      'and', df_train['FirstYearCheckouts'].max(), 'respectively')"
   ]
  },
  {
   "cell_type": "markdown",
   "metadata": {},
   "source": [
    "Our median and average are pretty low compared with the maximum we see; our distribution seems to have a long tail, so we will likely have higher RSMEs. "
   ]
  },
  {
   "cell_type": "code",
   "execution_count": 13,
   "metadata": {},
   "outputs": [
    {
     "data": {
      "text/plain": [
       "Index(['Title', 'Creator', 'UsageClass', 'MaterialType', 'Genre',\n",
       "       'CleanedPublisher', 'CheckoutMonth', 'CheckoutYear',\n",
       "       'PreviousYearCheckoutsSum', 'PreviousYearCheckoutsMean',\n",
       "       'PreviousYearPublished', 'PreviousYearPublishedMean',\n",
       "       'FirstYearCheckouts'],\n",
       "      dtype='object')"
      ]
     },
     "execution_count": 13,
     "metadata": {},
     "output_type": "execute_result"
    }
   ],
   "source": [
    "df_train.columns"
   ]
  },
  {
   "cell_type": "markdown",
   "metadata": {},
   "source": [
    "## First Modeling Attempt: Linear Regression\n",
    "\n",
    "For our first model, we will consider linear regression. We will train on all features outside of Title and Creator, and we one-hot encode the categorical variables UsageClass, MaterialType, Genre, CleanedPublisher. Since UsageClass is binary, we will replace this column with a 1 if the item is Physical and 0 if the item is Digital. "
   ]
  },
  {
   "cell_type": "code",
   "execution_count": 14,
   "metadata": {},
   "outputs": [],
   "source": [
    "from sklearn.linear_model import LinearRegression"
   ]
  },
  {
   "cell_type": "code",
   "execution_count": 15,
   "metadata": {},
   "outputs": [],
   "source": [
    "#Get list of cateories for columns of one-hot encoding\n",
    "genre_list = df_train['Genre'].unique().tolist()\n",
    "material_list = df_train['MaterialType'].unique().tolist()\n",
    "publisher_list = df_train['CleanedPublisher'].unique().tolist()\n",
    "\n",
    "# One-hot encoding of 'Genre' variable\n",
    "df_train[genre_list] = pd.get_dummies(df_train['Genre'])\n",
    "\n",
    "# One-hot encoding of 'MaterialType' variables\n",
    "df_train[material_list] = pd.get_dummies(df_train['MaterialType'])\n",
    "\n",
    "# One-hot encoding of 'CleanedPublisher' variable\n",
    "df_train[publisher_list] = pd.get_dummies(df_train['CleanedPublisher'])\n",
    "\n",
    "#One hot encode UsageClass into single column with 1 indicating 'Physical' and 0 indicating 'Digital'\n",
    "df_train['UsageClass'] = pd.get_dummies(df_train['UsageClass'])['Physical']\n",
    "#df_train = df_train.drop(columns = ['Genre', 'MaterialType'])\n",
    "df_train = df_train.drop(columns = ['Genre', 'MaterialType', 'CleanedPublisher'])"
   ]
  },
  {
   "cell_type": "code",
   "execution_count": 16,
   "metadata": {},
   "outputs": [
    {
     "data": {
      "text/plain": [
       "Index(['Title', 'Creator', 'UsageClass', 'CheckoutMonth', 'CheckoutYear',\n",
       "       'PreviousYearCheckoutsSum', 'PreviousYearCheckoutsMean',\n",
       "       'PreviousYearPublished', 'PreviousYearPublishedMean',\n",
       "       'FirstYearCheckouts', 'other', 'juvenile', 'mystery', 'history',\n",
       "       'nonfiction', 'fiction', 'romance', 'fantasy/sci-fi', 'biography',\n",
       "       'young adult', 'horror/thriller', 'BOOK', 'EBOOK', 'AUDIOBOOK',\n",
       "       'SOUNDDISC', 'OTHER', 'VIDEODISC', 'other publisher',\n",
       "       'simon & schuster', 'harpercollins', 'penguin random house', 'hachette',\n",
       "       'blackstone', 'harlequin', 'macmillan', 'scholastic',\n",
       "       'lightning source', 'recorded books', 'brilliance'],\n",
       "      dtype='object')"
      ]
     },
     "execution_count": 16,
     "metadata": {},
     "output_type": "execute_result"
    }
   ],
   "source": [
    "df_train.columns"
   ]
  },
  {
   "cell_type": "code",
   "execution_count": 27,
   "metadata": {},
   "outputs": [],
   "source": [
    "# Features we want to train our linear regression on\n",
    "features =['UsageClass', 'CheckoutMonth', 'CheckoutYear',\n",
    "       'PreviousYearCheckoutsSum', 'PreviousYearCheckoutsMean',\n",
    "       'PreviousYearPublished', 'PreviousYearPublishedMean'\n",
    "       , 'other', 'juvenile', 'mystery', 'history',\n",
    "       'nonfiction', 'fiction', 'romance', 'fantasy/sci-fi', 'biography',\n",
    "       'young adult', 'horror/thriller', 'BOOK', 'EBOOK', 'AUDIOBOOK',\n",
    "       'SOUNDDISC', 'OTHER', 'VIDEODISC', 'other publisher',\n",
    "       'simon & schuster', 'harpercollins', 'penguin random house', 'hachette',\n",
    "       'blackstone', 'harlequin', 'macmillan', 'scholastic',\n",
    "       'lightning source', 'recorded books', 'brilliance']"
   ]
  },
  {
   "cell_type": "code",
   "execution_count": 28,
   "metadata": {},
   "outputs": [],
   "source": [
    "# Kfold split\n",
    "kfold = KFold(n_splits = 5,\n",
    "              shuffle = True,\n",
    "              random_state = 216)"
   ]
  },
  {
   "cell_type": "code",
   "execution_count": 121,
   "metadata": {},
   "outputs": [],
   "source": [
    "# Array to store rmse\n",
    "rmse = np.zeros(5)\n",
    "\n",
    "# Initialize LinearRegression Model\n",
    "lr = LinearRegression()\n",
    "\n",
    "for i, (train_index, test_index) in enumerate(kfold.split(df_train, df_train['FirstYearCheckouts'])):\n",
    "\n",
    "    ## get the kfold training and holdout data\n",
    "    X_tt = df_train.iloc[train_index]\n",
    "    X_ho = df_train.iloc[test_index]\n",
    "\n",
    "    ## Fit model\n",
    "    lr.fit(X_tt[features], X_tt['FirstYearCheckouts'])\n",
    "\n",
    "    ## Generate predictions on the holdout set\n",
    "    lr_preds = lr.predict(X_ho[features])\n",
    "\n",
    "    ## Record the rmses\n",
    "    rmses[i] = root_mean_squared_error(X_ho['FirstYearCheckouts'], lr_preds)"
   ]
  },
  {
   "cell_type": "code",
   "execution_count": 122,
   "metadata": {},
   "outputs": [
    {
     "name": "stdout",
     "output_type": "stream",
     "text": [
      "[109.98766426 117.18175179 104.24685806 114.22175667 109.89098079]\n",
      "111.10580231523207\n"
     ]
    }
   ],
   "source": [
    "print(rmses)\n",
    "print(rmses.mean())"
   ]
  },
  {
   "cell_type": "markdown",
   "metadata": {},
   "source": [
    "## Adding Regularization: \n",
    "\n",
    "We add lasso regularization to our model to see what features are most important. We first run the regularizaiton with alpha = 0.1. "
   ]
  },
  {
   "cell_type": "code",
   "execution_count": 32,
   "metadata": {},
   "outputs": [],
   "source": [
    "from sklearn.linear_model import Lasso"
   ]
  },
  {
   "cell_type": "code",
   "execution_count": 35,
   "metadata": {},
   "outputs": [],
   "source": [
    "# Kfold split\n",
    "kfold = KFold(n_splits = 5,\n",
    "              shuffle = True,\n",
    "              random_state = 216)\n",
    "\n",
    "# Array to store rmse\n",
    "rmse = np.zeros(5)\n",
    "\n",
    "#Initialize Lasso regression model\n",
    "lasso = Lasso(alpha=0.1)  \n",
    "\n",
    "for i, (train_index, test_index) in enumerate(kfold.split(df_train, df_train['FirstYearCheckouts'])):\n",
    "\n",
    "    ## get the kfold training and holdout data\n",
    "    X_tt = df_train.iloc[train_index]\n",
    "    X_ho = df_train.iloc[test_index]\n",
    "\n",
    "    ## Fit model\n",
    "    lasso.fit(X_tt[features], X_tt['FirstYearCheckouts'])\n",
    "\n",
    "\n",
    "    ## Generate predictions on the holdout set\n",
    "    lasso_preds = lasso.predict(X_ho[features])\n",
    "\n",
    "    ## Record the rmses\n",
    "    rmses[i] = root_mean_squared_error(X_ho['FirstYearCheckouts'], lasso_preds)"
   ]
  },
  {
   "cell_type": "code",
   "execution_count": 36,
   "metadata": {},
   "outputs": [
    {
     "name": "stdout",
     "output_type": "stream",
     "text": [
      "[110.01183039 117.20027996 104.26801716 114.2452093  109.94932836]\n",
      "111.13493303349594\n"
     ]
    }
   ],
   "source": [
    "print(rmses)\n",
    "print(rmses.mean())"
   ]
  },
  {
   "cell_type": "markdown",
   "metadata": {},
   "source": [
    "We see that this behaves very similarly to linear regression without regularization. We now search through different alpha values to see which values gives the best model and what features are most important. "
   ]
  },
  {
   "cell_type": "code",
   "execution_count": 38,
   "metadata": {},
   "outputs": [
    {
     "name": "stdout",
     "output_type": "stream",
     "text": [
      "1e-05\n",
      "\n"
     ]
    },
    {
     "name": "stderr",
     "output_type": "stream",
     "text": [
      "/opt/anaconda3/lib/python3.12/site-packages/sklearn/linear_model/_coordinate_descent.py:678: ConvergenceWarning: Objective did not converge. You might want to increase the number of iterations, check the scale of the features or consider increasing regularisation. Duality gap: 1.369e+08, tolerance: 6.099e+05\n",
      "  model = cd_fast.enet_coordinate_descent(\n"
     ]
    },
    {
     "name": "stdout",
     "output_type": "stream",
     "text": [
      "0.0001\n",
      "\n"
     ]
    },
    {
     "name": "stderr",
     "output_type": "stream",
     "text": [
      "/opt/anaconda3/lib/python3.12/site-packages/sklearn/linear_model/_coordinate_descent.py:678: ConvergenceWarning: Objective did not converge. You might want to increase the number of iterations, check the scale of the features or consider increasing regularisation. Duality gap: 1.369e+08, tolerance: 6.099e+05\n",
      "  model = cd_fast.enet_coordinate_descent(\n"
     ]
    },
    {
     "name": "stdout",
     "output_type": "stream",
     "text": [
      "0.001\n",
      "\n"
     ]
    },
    {
     "name": "stderr",
     "output_type": "stream",
     "text": [
      "/opt/anaconda3/lib/python3.12/site-packages/sklearn/linear_model/_coordinate_descent.py:678: ConvergenceWarning: Objective did not converge. You might want to increase the number of iterations, check the scale of the features or consider increasing regularisation. Duality gap: 1.369e+08, tolerance: 6.099e+05\n",
      "  model = cd_fast.enet_coordinate_descent(\n"
     ]
    },
    {
     "name": "stdout",
     "output_type": "stream",
     "text": [
      "0.01\n",
      "\n",
      "0.1\n",
      "\n",
      "1\n",
      "\n",
      "10\n",
      "\n",
      "100\n",
      "\n",
      "1000\n",
      "\n"
     ]
    }
   ],
   "source": [
    "from sklearn.pipeline import Pipeline\n",
    "from sklearn.preprocessing import StandardScaler\n",
    "\n",
    "alpha = [0.00001,0.0001,0.001,0.01,0.1,1,10,100,1000]\n",
    "n =len(features)\n",
    "\n",
    "lasso_coefs = np.empty((len(alpha),n))\n",
    "rmses = np.empty(len(alpha))\n",
    "\n",
    "## for each alpha value\n",
    "for i in range(len(alpha)):\n",
    "    print(alpha[i])\n",
    "    print()\n",
    "    \n",
    "    ## set up the lasso pipeline\n",
    "    lasso_pipe = Pipeline([('scale',StandardScaler()),\n",
    "                              ('lasso', Lasso(alpha=alpha[i]))\n",
    "                          ])\n",
    "    \n",
    "    ## fit the lasso\n",
    "    lasso_pipe.fit(df_train[features], df_train['FirstYearCheckouts'])\n",
    "\n",
    "    ## predict \n",
    "    pred = lasso_pipe.predict(df_train[features])\n",
    "    rmses[i] = root_mean_squared_error(pred, df_train['FirstYearCheckouts'])\n",
    "\n",
    "\n",
    "    # record the coefficients\n",
    "    lasso_coefs[i,:] = lasso_pipe['lasso'].coef_"
   ]
  },
  {
   "cell_type": "code",
   "execution_count": 39,
   "metadata": {},
   "outputs": [
    {
     "name": "stdout",
     "output_type": "stream",
     "text": [
      "Lasso Coefficients\n"
     ]
    },
    {
     "data": {
      "text/html": [
       "<div>\n",
       "<style scoped>\n",
       "    .dataframe tbody tr th:only-of-type {\n",
       "        vertical-align: middle;\n",
       "    }\n",
       "\n",
       "    .dataframe tbody tr th {\n",
       "        vertical-align: top;\n",
       "    }\n",
       "\n",
       "    .dataframe thead th {\n",
       "        text-align: right;\n",
       "    }\n",
       "</style>\n",
       "<table border=\"1\" class=\"dataframe\">\n",
       "  <thead>\n",
       "    <tr style=\"text-align: right;\">\n",
       "      <th></th>\n",
       "      <th>UsageClass</th>\n",
       "      <th>CheckoutMonth</th>\n",
       "      <th>CheckoutYear</th>\n",
       "      <th>PreviousYearCheckoutsSum</th>\n",
       "      <th>PreviousYearCheckoutsMean</th>\n",
       "      <th>PreviousYearPublished</th>\n",
       "      <th>PreviousYearPublishedMean</th>\n",
       "      <th>other</th>\n",
       "      <th>juvenile</th>\n",
       "      <th>mystery</th>\n",
       "      <th>history</th>\n",
       "      <th>nonfiction</th>\n",
       "      <th>fiction</th>\n",
       "      <th>romance</th>\n",
       "      <th>fantasy/sci-fi</th>\n",
       "      <th>biography</th>\n",
       "      <th>young adult</th>\n",
       "      <th>horror/thriller</th>\n",
       "      <th>BOOK</th>\n",
       "      <th>EBOOK</th>\n",
       "      <th>AUDIOBOOK</th>\n",
       "      <th>SOUNDDISC</th>\n",
       "      <th>OTHER</th>\n",
       "      <th>VIDEODISC</th>\n",
       "      <th>other publisher</th>\n",
       "      <th>simon &amp; schuster</th>\n",
       "      <th>harpercollins</th>\n",
       "      <th>penguin random house</th>\n",
       "      <th>hachette</th>\n",
       "      <th>blackstone</th>\n",
       "      <th>harlequin</th>\n",
       "      <th>macmillan</th>\n",
       "      <th>scholastic</th>\n",
       "      <th>lightning source</th>\n",
       "      <th>recorded books</th>\n",
       "      <th>brilliance</th>\n",
       "    </tr>\n",
       "  </thead>\n",
       "  <tbody>\n",
       "    <tr>\n",
       "      <th>alpha=1e-05</th>\n",
       "      <td>1.664975</td>\n",
       "      <td>-0.964015</td>\n",
       "      <td>2.154109</td>\n",
       "      <td>10.139801</td>\n",
       "      <td>25.859853</td>\n",
       "      <td>-5.236976</td>\n",
       "      <td>-0.107529</td>\n",
       "      <td>1.812815</td>\n",
       "      <td>1.265832</td>\n",
       "      <td>3.098828</td>\n",
       "      <td>-0.885583</td>\n",
       "      <td>3.441402</td>\n",
       "      <td>-4.046213</td>\n",
       "      <td>1.388172</td>\n",
       "      <td>1.467246</td>\n",
       "      <td>-0.232567</td>\n",
       "      <td>1.666957</td>\n",
       "      <td>-2.078180</td>\n",
       "      <td>1.876726</td>\n",
       "      <td>9.303623</td>\n",
       "      <td>-4.319153</td>\n",
       "      <td>-1.559242</td>\n",
       "      <td>3.162130</td>\n",
       "      <td>0.666570</td>\n",
       "      <td>-2.300159</td>\n",
       "      <td>-3.481724</td>\n",
       "      <td>-0.521887</td>\n",
       "      <td>-0.105125</td>\n",
       "      <td>1.384022</td>\n",
       "      <td>-0.367599</td>\n",
       "      <td>0.848916</td>\n",
       "      <td>-3.964979</td>\n",
       "      <td>2.592150</td>\n",
       "      <td>-1.943754</td>\n",
       "      <td>-0.736035</td>\n",
       "      <td>2.041423</td>\n",
       "    </tr>\n",
       "    <tr>\n",
       "      <th>alpha=0.0001</th>\n",
       "      <td>1.664058</td>\n",
       "      <td>-0.963929</td>\n",
       "      <td>2.154056</td>\n",
       "      <td>10.139687</td>\n",
       "      <td>25.859816</td>\n",
       "      <td>-5.236870</td>\n",
       "      <td>-0.107438</td>\n",
       "      <td>1.782882</td>\n",
       "      <td>1.237379</td>\n",
       "      <td>3.058264</td>\n",
       "      <td>-0.912019</td>\n",
       "      <td>3.417605</td>\n",
       "      <td>-4.093303</td>\n",
       "      <td>1.360306</td>\n",
       "      <td>1.433842</td>\n",
       "      <td>-0.279802</td>\n",
       "      <td>1.641160</td>\n",
       "      <td>-2.099282</td>\n",
       "      <td>1.829955</td>\n",
       "      <td>9.231508</td>\n",
       "      <td>-4.386252</td>\n",
       "      <td>-1.577137</td>\n",
       "      <td>3.123854</td>\n",
       "      <td>0.662750</td>\n",
       "      <td>-2.285572</td>\n",
       "      <td>-3.472933</td>\n",
       "      <td>-0.506179</td>\n",
       "      <td>-0.096145</td>\n",
       "      <td>1.411146</td>\n",
       "      <td>-0.356666</td>\n",
       "      <td>0.867538</td>\n",
       "      <td>-3.914986</td>\n",
       "      <td>2.627753</td>\n",
       "      <td>-1.928767</td>\n",
       "      <td>-0.723138</td>\n",
       "      <td>2.060568</td>\n",
       "    </tr>\n",
       "    <tr>\n",
       "      <th>alpha=0.001</th>\n",
       "      <td>1.654891</td>\n",
       "      <td>-0.963070</td>\n",
       "      <td>2.153522</td>\n",
       "      <td>10.138550</td>\n",
       "      <td>25.859449</td>\n",
       "      <td>-5.235815</td>\n",
       "      <td>-0.106528</td>\n",
       "      <td>1.483553</td>\n",
       "      <td>0.952853</td>\n",
       "      <td>2.652626</td>\n",
       "      <td>-1.176379</td>\n",
       "      <td>3.179631</td>\n",
       "      <td>-4.564208</td>\n",
       "      <td>1.081643</td>\n",
       "      <td>1.099807</td>\n",
       "      <td>-0.752154</td>\n",
       "      <td>1.383193</td>\n",
       "      <td>-2.310301</td>\n",
       "      <td>1.362250</td>\n",
       "      <td>8.510351</td>\n",
       "      <td>-5.057241</td>\n",
       "      <td>-1.756090</td>\n",
       "      <td>2.741104</td>\n",
       "      <td>0.624550</td>\n",
       "      <td>-2.139704</td>\n",
       "      <td>-3.385022</td>\n",
       "      <td>-0.349091</td>\n",
       "      <td>-0.006343</td>\n",
       "      <td>1.682389</td>\n",
       "      <td>-0.247339</td>\n",
       "      <td>1.053758</td>\n",
       "      <td>-3.415061</td>\n",
       "      <td>2.983781</td>\n",
       "      <td>-1.778897</td>\n",
       "      <td>-0.594171</td>\n",
       "      <td>2.252015</td>\n",
       "    </tr>\n",
       "    <tr>\n",
       "      <th>alpha=0.01</th>\n",
       "      <td>1.993023</td>\n",
       "      <td>-0.955239</td>\n",
       "      <td>2.141577</td>\n",
       "      <td>10.127746</td>\n",
       "      <td>25.853330</td>\n",
       "      <td>-5.222673</td>\n",
       "      <td>-0.097726</td>\n",
       "      <td>0.482386</td>\n",
       "      <td>0.000000</td>\n",
       "      <td>1.297713</td>\n",
       "      <td>-2.050391</td>\n",
       "      <td>2.383210</td>\n",
       "      <td>-6.125209</td>\n",
       "      <td>0.147401</td>\n",
       "      <td>-0.000681</td>\n",
       "      <td>-2.315385</td>\n",
       "      <td>0.520149</td>\n",
       "      <td>-3.007046</td>\n",
       "      <td>-0.000000</td>\n",
       "      <td>6.015137</td>\n",
       "      <td>-7.012715</td>\n",
       "      <td>-2.315806</td>\n",
       "      <td>1.413071</td>\n",
       "      <td>0.486074</td>\n",
       "      <td>-1.806879</td>\n",
       "      <td>-3.180415</td>\n",
       "      <td>-0.000000</td>\n",
       "      <td>0.182016</td>\n",
       "      <td>2.283397</td>\n",
       "      <td>-0.000000</td>\n",
       "      <td>1.463387</td>\n",
       "      <td>-2.285995</td>\n",
       "      <td>3.769654</td>\n",
       "      <td>-1.436665</td>\n",
       "      <td>-0.298573</td>\n",
       "      <td>2.672745</td>\n",
       "    </tr>\n",
       "    <tr>\n",
       "      <th>alpha=0.1</th>\n",
       "      <td>4.257006</td>\n",
       "      <td>-0.875235</td>\n",
       "      <td>2.038845</td>\n",
       "      <td>10.016275</td>\n",
       "      <td>25.793761</td>\n",
       "      <td>-5.100807</td>\n",
       "      <td>-0.008933</td>\n",
       "      <td>0.447162</td>\n",
       "      <td>0.000000</td>\n",
       "      <td>1.265386</td>\n",
       "      <td>-1.928238</td>\n",
       "      <td>2.334171</td>\n",
       "      <td>-5.977353</td>\n",
       "      <td>0.075079</td>\n",
       "      <td>-0.000000</td>\n",
       "      <td>-2.119430</td>\n",
       "      <td>0.444656</td>\n",
       "      <td>-2.917202</td>\n",
       "      <td>-0.000000</td>\n",
       "      <td>3.465494</td>\n",
       "      <td>-6.910069</td>\n",
       "      <td>-2.518260</td>\n",
       "      <td>0.000000</td>\n",
       "      <td>0.263009</td>\n",
       "      <td>-1.727428</td>\n",
       "      <td>-3.087556</td>\n",
       "      <td>-0.000000</td>\n",
       "      <td>0.078069</td>\n",
       "      <td>2.159719</td>\n",
       "      <td>-0.000000</td>\n",
       "      <td>1.331534</td>\n",
       "      <td>-2.257082</td>\n",
       "      <td>3.585012</td>\n",
       "      <td>-1.350459</td>\n",
       "      <td>-0.233581</td>\n",
       "      <td>2.544852</td>\n",
       "    </tr>\n",
       "    <tr>\n",
       "      <th>alpha=1</th>\n",
       "      <td>2.692603</td>\n",
       "      <td>-0.030059</td>\n",
       "      <td>1.496581</td>\n",
       "      <td>8.966051</td>\n",
       "      <td>25.281457</td>\n",
       "      <td>-4.032972</td>\n",
       "      <td>-0.000000</td>\n",
       "      <td>0.342630</td>\n",
       "      <td>0.000000</td>\n",
       "      <td>1.208996</td>\n",
       "      <td>-0.483923</td>\n",
       "      <td>1.992429</td>\n",
       "      <td>-4.029570</td>\n",
       "      <td>0.000000</td>\n",
       "      <td>-0.000000</td>\n",
       "      <td>-0.000000</td>\n",
       "      <td>0.000000</td>\n",
       "      <td>-1.810563</td>\n",
       "      <td>0.000000</td>\n",
       "      <td>3.639780</td>\n",
       "      <td>-5.010462</td>\n",
       "      <td>-1.721461</td>\n",
       "      <td>0.000000</td>\n",
       "      <td>0.000000</td>\n",
       "      <td>-0.628492</td>\n",
       "      <td>-2.073609</td>\n",
       "      <td>-0.000000</td>\n",
       "      <td>0.000000</td>\n",
       "      <td>1.123811</td>\n",
       "      <td>-0.000000</td>\n",
       "      <td>0.150641</td>\n",
       "      <td>-1.865294</td>\n",
       "      <td>2.097519</td>\n",
       "      <td>-0.233642</td>\n",
       "      <td>-0.000000</td>\n",
       "      <td>1.376000</td>\n",
       "    </tr>\n",
       "    <tr>\n",
       "      <th>alpha=10</th>\n",
       "      <td>0.000000</td>\n",
       "      <td>-0.000000</td>\n",
       "      <td>0.000000</td>\n",
       "      <td>0.623988</td>\n",
       "      <td>18.233488</td>\n",
       "      <td>-0.000000</td>\n",
       "      <td>-0.000000</td>\n",
       "      <td>0.000000</td>\n",
       "      <td>0.000000</td>\n",
       "      <td>0.000000</td>\n",
       "      <td>-0.000000</td>\n",
       "      <td>0.000000</td>\n",
       "      <td>-0.000000</td>\n",
       "      <td>0.000000</td>\n",
       "      <td>-0.000000</td>\n",
       "      <td>0.000000</td>\n",
       "      <td>-0.000000</td>\n",
       "      <td>-0.000000</td>\n",
       "      <td>0.000000</td>\n",
       "      <td>0.000000</td>\n",
       "      <td>-0.000000</td>\n",
       "      <td>-0.000000</td>\n",
       "      <td>0.000000</td>\n",
       "      <td>0.000000</td>\n",
       "      <td>-0.000000</td>\n",
       "      <td>-0.000000</td>\n",
       "      <td>-0.000000</td>\n",
       "      <td>-0.000000</td>\n",
       "      <td>0.000000</td>\n",
       "      <td>-0.000000</td>\n",
       "      <td>0.000000</td>\n",
       "      <td>-0.000000</td>\n",
       "      <td>0.000000</td>\n",
       "      <td>-0.000000</td>\n",
       "      <td>0.000000</td>\n",
       "      <td>0.000000</td>\n",
       "    </tr>\n",
       "    <tr>\n",
       "      <th>alpha=100</th>\n",
       "      <td>0.000000</td>\n",
       "      <td>-0.000000</td>\n",
       "      <td>0.000000</td>\n",
       "      <td>0.000000</td>\n",
       "      <td>0.000000</td>\n",
       "      <td>-0.000000</td>\n",
       "      <td>-0.000000</td>\n",
       "      <td>0.000000</td>\n",
       "      <td>0.000000</td>\n",
       "      <td>0.000000</td>\n",
       "      <td>-0.000000</td>\n",
       "      <td>0.000000</td>\n",
       "      <td>-0.000000</td>\n",
       "      <td>0.000000</td>\n",
       "      <td>-0.000000</td>\n",
       "      <td>-0.000000</td>\n",
       "      <td>0.000000</td>\n",
       "      <td>-0.000000</td>\n",
       "      <td>0.000000</td>\n",
       "      <td>0.000000</td>\n",
       "      <td>-0.000000</td>\n",
       "      <td>-0.000000</td>\n",
       "      <td>0.000000</td>\n",
       "      <td>0.000000</td>\n",
       "      <td>-0.000000</td>\n",
       "      <td>-0.000000</td>\n",
       "      <td>-0.000000</td>\n",
       "      <td>-0.000000</td>\n",
       "      <td>0.000000</td>\n",
       "      <td>-0.000000</td>\n",
       "      <td>0.000000</td>\n",
       "      <td>-0.000000</td>\n",
       "      <td>0.000000</td>\n",
       "      <td>-0.000000</td>\n",
       "      <td>0.000000</td>\n",
       "      <td>0.000000</td>\n",
       "    </tr>\n",
       "    <tr>\n",
       "      <th>alpha=1000</th>\n",
       "      <td>0.000000</td>\n",
       "      <td>-0.000000</td>\n",
       "      <td>0.000000</td>\n",
       "      <td>0.000000</td>\n",
       "      <td>0.000000</td>\n",
       "      <td>-0.000000</td>\n",
       "      <td>-0.000000</td>\n",
       "      <td>0.000000</td>\n",
       "      <td>0.000000</td>\n",
       "      <td>0.000000</td>\n",
       "      <td>-0.000000</td>\n",
       "      <td>0.000000</td>\n",
       "      <td>-0.000000</td>\n",
       "      <td>0.000000</td>\n",
       "      <td>-0.000000</td>\n",
       "      <td>-0.000000</td>\n",
       "      <td>0.000000</td>\n",
       "      <td>-0.000000</td>\n",
       "      <td>0.000000</td>\n",
       "      <td>0.000000</td>\n",
       "      <td>-0.000000</td>\n",
       "      <td>-0.000000</td>\n",
       "      <td>0.000000</td>\n",
       "      <td>0.000000</td>\n",
       "      <td>-0.000000</td>\n",
       "      <td>-0.000000</td>\n",
       "      <td>-0.000000</td>\n",
       "      <td>-0.000000</td>\n",
       "      <td>0.000000</td>\n",
       "      <td>-0.000000</td>\n",
       "      <td>0.000000</td>\n",
       "      <td>-0.000000</td>\n",
       "      <td>0.000000</td>\n",
       "      <td>-0.000000</td>\n",
       "      <td>0.000000</td>\n",
       "      <td>0.000000</td>\n",
       "    </tr>\n",
       "  </tbody>\n",
       "</table>\n",
       "</div>"
      ],
      "text/plain": [
       "              UsageClass  CheckoutMonth  CheckoutYear  \\\n",
       "alpha=1e-05     1.664975      -0.964015      2.154109   \n",
       "alpha=0.0001    1.664058      -0.963929      2.154056   \n",
       "alpha=0.001     1.654891      -0.963070      2.153522   \n",
       "alpha=0.01      1.993023      -0.955239      2.141577   \n",
       "alpha=0.1       4.257006      -0.875235      2.038845   \n",
       "alpha=1         2.692603      -0.030059      1.496581   \n",
       "alpha=10        0.000000      -0.000000      0.000000   \n",
       "alpha=100       0.000000      -0.000000      0.000000   \n",
       "alpha=1000      0.000000      -0.000000      0.000000   \n",
       "\n",
       "              PreviousYearCheckoutsSum  PreviousYearCheckoutsMean  \\\n",
       "alpha=1e-05                  10.139801                  25.859853   \n",
       "alpha=0.0001                 10.139687                  25.859816   \n",
       "alpha=0.001                  10.138550                  25.859449   \n",
       "alpha=0.01                   10.127746                  25.853330   \n",
       "alpha=0.1                    10.016275                  25.793761   \n",
       "alpha=1                       8.966051                  25.281457   \n",
       "alpha=10                      0.623988                  18.233488   \n",
       "alpha=100                     0.000000                   0.000000   \n",
       "alpha=1000                    0.000000                   0.000000   \n",
       "\n",
       "              PreviousYearPublished  PreviousYearPublishedMean     other  \\\n",
       "alpha=1e-05               -5.236976                  -0.107529  1.812815   \n",
       "alpha=0.0001              -5.236870                  -0.107438  1.782882   \n",
       "alpha=0.001               -5.235815                  -0.106528  1.483553   \n",
       "alpha=0.01                -5.222673                  -0.097726  0.482386   \n",
       "alpha=0.1                 -5.100807                  -0.008933  0.447162   \n",
       "alpha=1                   -4.032972                  -0.000000  0.342630   \n",
       "alpha=10                  -0.000000                  -0.000000  0.000000   \n",
       "alpha=100                 -0.000000                  -0.000000  0.000000   \n",
       "alpha=1000                -0.000000                  -0.000000  0.000000   \n",
       "\n",
       "              juvenile   mystery   history  nonfiction   fiction   romance  \\\n",
       "alpha=1e-05   1.265832  3.098828 -0.885583    3.441402 -4.046213  1.388172   \n",
       "alpha=0.0001  1.237379  3.058264 -0.912019    3.417605 -4.093303  1.360306   \n",
       "alpha=0.001   0.952853  2.652626 -1.176379    3.179631 -4.564208  1.081643   \n",
       "alpha=0.01    0.000000  1.297713 -2.050391    2.383210 -6.125209  0.147401   \n",
       "alpha=0.1     0.000000  1.265386 -1.928238    2.334171 -5.977353  0.075079   \n",
       "alpha=1       0.000000  1.208996 -0.483923    1.992429 -4.029570  0.000000   \n",
       "alpha=10      0.000000  0.000000 -0.000000    0.000000 -0.000000  0.000000   \n",
       "alpha=100     0.000000  0.000000 -0.000000    0.000000 -0.000000  0.000000   \n",
       "alpha=1000    0.000000  0.000000 -0.000000    0.000000 -0.000000  0.000000   \n",
       "\n",
       "              fantasy/sci-fi  biography  young adult  horror/thriller  \\\n",
       "alpha=1e-05         1.467246  -0.232567     1.666957        -2.078180   \n",
       "alpha=0.0001        1.433842  -0.279802     1.641160        -2.099282   \n",
       "alpha=0.001         1.099807  -0.752154     1.383193        -2.310301   \n",
       "alpha=0.01         -0.000681  -2.315385     0.520149        -3.007046   \n",
       "alpha=0.1          -0.000000  -2.119430     0.444656        -2.917202   \n",
       "alpha=1            -0.000000  -0.000000     0.000000        -1.810563   \n",
       "alpha=10           -0.000000   0.000000    -0.000000        -0.000000   \n",
       "alpha=100          -0.000000  -0.000000     0.000000        -0.000000   \n",
       "alpha=1000         -0.000000  -0.000000     0.000000        -0.000000   \n",
       "\n",
       "                  BOOK     EBOOK  AUDIOBOOK  SOUNDDISC     OTHER  VIDEODISC  \\\n",
       "alpha=1e-05   1.876726  9.303623  -4.319153  -1.559242  3.162130   0.666570   \n",
       "alpha=0.0001  1.829955  9.231508  -4.386252  -1.577137  3.123854   0.662750   \n",
       "alpha=0.001   1.362250  8.510351  -5.057241  -1.756090  2.741104   0.624550   \n",
       "alpha=0.01   -0.000000  6.015137  -7.012715  -2.315806  1.413071   0.486074   \n",
       "alpha=0.1    -0.000000  3.465494  -6.910069  -2.518260  0.000000   0.263009   \n",
       "alpha=1       0.000000  3.639780  -5.010462  -1.721461  0.000000   0.000000   \n",
       "alpha=10      0.000000  0.000000  -0.000000  -0.000000  0.000000   0.000000   \n",
       "alpha=100     0.000000  0.000000  -0.000000  -0.000000  0.000000   0.000000   \n",
       "alpha=1000    0.000000  0.000000  -0.000000  -0.000000  0.000000   0.000000   \n",
       "\n",
       "              other publisher  simon & schuster  harpercollins  \\\n",
       "alpha=1e-05         -2.300159         -3.481724      -0.521887   \n",
       "alpha=0.0001        -2.285572         -3.472933      -0.506179   \n",
       "alpha=0.001         -2.139704         -3.385022      -0.349091   \n",
       "alpha=0.01          -1.806879         -3.180415      -0.000000   \n",
       "alpha=0.1           -1.727428         -3.087556      -0.000000   \n",
       "alpha=1             -0.628492         -2.073609      -0.000000   \n",
       "alpha=10            -0.000000         -0.000000      -0.000000   \n",
       "alpha=100           -0.000000         -0.000000      -0.000000   \n",
       "alpha=1000          -0.000000         -0.000000      -0.000000   \n",
       "\n",
       "              penguin random house  hachette  blackstone  harlequin  \\\n",
       "alpha=1e-05              -0.105125  1.384022   -0.367599   0.848916   \n",
       "alpha=0.0001             -0.096145  1.411146   -0.356666   0.867538   \n",
       "alpha=0.001              -0.006343  1.682389   -0.247339   1.053758   \n",
       "alpha=0.01                0.182016  2.283397   -0.000000   1.463387   \n",
       "alpha=0.1                 0.078069  2.159719   -0.000000   1.331534   \n",
       "alpha=1                   0.000000  1.123811   -0.000000   0.150641   \n",
       "alpha=10                 -0.000000  0.000000   -0.000000   0.000000   \n",
       "alpha=100                -0.000000  0.000000   -0.000000   0.000000   \n",
       "alpha=1000               -0.000000  0.000000   -0.000000   0.000000   \n",
       "\n",
       "              macmillan  scholastic  lightning source  recorded books  \\\n",
       "alpha=1e-05   -3.964979    2.592150         -1.943754       -0.736035   \n",
       "alpha=0.0001  -3.914986    2.627753         -1.928767       -0.723138   \n",
       "alpha=0.001   -3.415061    2.983781         -1.778897       -0.594171   \n",
       "alpha=0.01    -2.285995    3.769654         -1.436665       -0.298573   \n",
       "alpha=0.1     -2.257082    3.585012         -1.350459       -0.233581   \n",
       "alpha=1       -1.865294    2.097519         -0.233642       -0.000000   \n",
       "alpha=10      -0.000000    0.000000         -0.000000        0.000000   \n",
       "alpha=100     -0.000000    0.000000         -0.000000        0.000000   \n",
       "alpha=1000    -0.000000    0.000000         -0.000000        0.000000   \n",
       "\n",
       "              brilliance  \n",
       "alpha=1e-05     2.041423  \n",
       "alpha=0.0001    2.060568  \n",
       "alpha=0.001     2.252015  \n",
       "alpha=0.01      2.672745  \n",
       "alpha=0.1       2.544852  \n",
       "alpha=1         1.376000  \n",
       "alpha=10        0.000000  \n",
       "alpha=100       0.000000  \n",
       "alpha=1000      0.000000  "
      ]
     },
     "execution_count": 39,
     "metadata": {},
     "output_type": "execute_result"
    }
   ],
   "source": [
    "print(\"Lasso Coefficients\")\n",
    "pd.set_option('display.max_columns', None)\n",
    "pd.DataFrame(np.round(lasso_coefs,8),\n",
    "            columns = features,\n",
    "            index = [\"alpha=\" + str(a) for a in alpha])"
   ]
  },
  {
   "cell_type": "markdown",
   "metadata": {},
   "source": [
    "PreviousYearCheckoutsMean is the feature with the coefficient of highest magnitude, with PreviousYearCheckoutSum and PreviousYearPublished also of larger magnitude. It is interesting to note that PreviousYearPublished has negative coefficients so that authors with books written in the last year have fewer checkouts.   UsageClass and CheckoutYear have coefficients of medium magntiude. In the Genre category, most of the coefficients are smaller, though those of nonfiction and fiction are of medium magnitude. Of the MaterialType categories, EBOOK and AUDIOBOOK are the most important with a positive coefficient for EBOOK but a negative one for AUDIOBOOKS. There are a few publishers with coefficients that are of slightly larger magnitude compared with the others, though most of the coefficients still stay on the smaller side.  We note that for large alpha values, none of the features are good indicators of FirstYearCheckout as all of the features zero out. "
   ]
  },
  {
   "cell_type": "code",
   "execution_count": 40,
   "metadata": {},
   "outputs": [
    {
     "name": "stdout",
     "output_type": "stream",
     "text": [
      "RMSE by alpha: \n",
      "Alpha 1e-05 : 111.17017748421029\n",
      "Alpha 0.0001 : 111.1701774859389\n",
      "Alpha 0.001 : 111.17017765880108\n",
      "Alpha 0.01 : 111.17020068991974\n",
      "Alpha 0.1 : 111.1721580317754\n",
      "Alpha 1 : 111.29169576805603\n",
      "Alpha 10 : 112.92470439838675\n",
      "Alpha 100 : 116.05858206189905\n",
      "Alpha 1000 : 116.05858206189905\n"
     ]
    }
   ],
   "source": [
    "print('RMSE by alpha: ')\n",
    "for i in range(len(alpha)):\n",
    "    print('Alpha', alpha[i], ':', rmses[i])"
   ]
  },
  {
   "cell_type": "markdown",
   "metadata": {},
   "source": [
    "We see that all of the alpha values give similar RMSEs compared with normal linear regression. "
   ]
  },
  {
   "cell_type": "markdown",
   "metadata": {},
   "source": [
    "## Additional Models: "
   ]
  },
  {
   "cell_type": "markdown",
   "metadata": {},
   "source": [
    "We now try a Random Forest, which should allow for non-linearity and will hopefully perform better as we do not expect our data to behave linearly based on earlier data exploration. "
   ]
  },
  {
   "cell_type": "code",
   "execution_count": 41,
   "metadata": {},
   "outputs": [
    {
     "name": "stdout",
     "output_type": "stream",
     "text": [
      "Root Mean Squared Error: 103.95280888503329\n"
     ]
    }
   ],
   "source": [
    "from sklearn.ensemble import RandomForestRegressor\n",
    "from sklearn.model_selection import train_test_split\n",
    "\n",
    "\n",
    "df_tt, df_ho = train_test_split(df_train, test_size=0.2,\\\n",
    "                                      shuffle=True, random_state=216)\n",
    "\n",
    "# Create a Random Forest Regressor model\n",
    "model = RandomForestRegressor(n_estimators=100, random_state=42)\n",
    "\n",
    "# Train the model\n",
    "model.fit(df_tt[features], df_tt['FirstYearCheckouts'])\n",
    "\n",
    "# Make predictions on the test set\n",
    "y_pred = model.predict(df_ho[features])\n",
    "\n",
    "# Evaluate the model\n",
    "rmse = root_mean_squared_error(df_ho['FirstYearCheckouts'], y_pred)\n",
    "print(\"Root Mean Squared Error:\", rmse)"
   ]
  },
  {
   "cell_type": "markdown",
   "metadata": {},
   "source": [
    "This improves are error by about 10 checkouts, which is not a huge improvement, but still noticable. "
   ]
  },
  {
   "cell_type": "markdown",
   "metadata": {},
   "source": [
    "We now use KNN Regressor to model our problem and compare it with the RandomForest. "
   ]
  },
  {
   "cell_type": "code",
   "execution_count": 42,
   "metadata": {},
   "outputs": [
    {
     "name": "stdout",
     "output_type": "stream",
     "text": [
      "Root Mean Squared Error: 109.43480298078369\n"
     ]
    }
   ],
   "source": [
    "from sklearn.neighbors import KNeighborsRegressor\n",
    "from sklearn.pipeline import Pipeline\n",
    "from sklearn.preprocessing import StandardScaler\n",
    "\n",
    "df_tt, df_ho = train_test_split(df_train, test_size=0.2,\\\n",
    "                                      shuffle=True, random_state=216)\n",
    "\n",
    "neigh = Pipeline([ ( 'scale', StandardScaler()), ('knn', KNeighborsRegressor())])\n",
    "\n",
    "neigh.fit(df_tt[features], df_tt['FirstYearCheckouts'])\n",
    "\n",
    "# Make predictions on the test set\n",
    "y_pred = neigh.predict(df_ho[features])\n",
    "\n",
    "# Evaluate the model\n",
    "rmse = root_mean_squared_error(df_ho['FirstYearCheckouts'], y_pred)\n",
    "print(\"Root Mean Squared Error:\", rmse)"
   ]
  },
  {
   "cell_type": "markdown",
   "metadata": {},
   "source": [
    "This is still a slight improvement over the baseline model, but does worse than the RandomForest model. We now do a comparison of the RMSE from different numbers of neighbors to see what performs best; we only run this on a smaller subset of features for computational convenience. "
   ]
  },
  {
   "cell_type": "code",
   "execution_count": 123,
   "metadata": {},
   "outputs": [
    {
     "name": "stdout",
     "output_type": "stream",
     "text": [
      "5\n",
      "10\n",
      "15\n",
      "20\n",
      "25\n",
      "30\n",
      "35\n",
      "40\n",
      "45\n",
      "50\n"
     ]
    },
    {
     "data": {
      "image/png": "[encoded data removed]",
      "text/plain": [
       "<Figure size 640x480 with 1 Axes>"
      ]
     },
     "metadata": {},
     "output_type": "display_data"
    }
   ],
   "source": [
    "feature_prev = ['PreviousYearCheckoutsSum', 'PreviousYearCheckoutsMean']\n",
    "\n",
    "neighbors = np.arange(5, 55, 5) \n",
    "train_rmse = np.empty(len(neighbors)) \n",
    "test_rmse = np.empty(len(neighbors)) \n",
    "  \n",
    "# Loop over K values \n",
    "for i, k in enumerate(neighbors): \n",
    "    print(k)\n",
    "    \n",
    "    knn = Pipeline([ ( 'scale', StandardScaler()), ('knn', KNeighborsRegressor(n_neighbors=k))])\n",
    "    #knn.fit(df_tt[new_features], df_tt['FirstYearCheckouts']) \n",
    "    knn.fit(df_tt[feature_prev], df_tt['FirstYearCheckouts']) \n",
    "      \n",
    "    # Compute training and test data accuracy \n",
    "    train_rmse[i] = root_mean_squared_error(knn.predict(df_tt[feature_prev]), df_tt['FirstYearCheckouts']) \n",
    "    test_rmse[i] = root_mean_squared_error(knn.predict(df_ho[feature_prev]), df_ho['FirstYearCheckouts']) \n",
    "  \n",
    "  \n",
    "# Generate plot \n",
    "plt.plot(neighbors, test_rmse, label = 'Testing dataset RMSE') \n",
    "plt.plot(neighbors, train_rmse, label = 'Training dataset RMSE') \n",
    "  \n",
    "plt.legend() \n",
    "plt.xlabel('n_neighbors') \n",
    "plt.ylabel('RMSE') \n",
    "plt.show() "
   ]
  },
  {
   "cell_type": "markdown",
   "metadata": {},
   "source": [
    "We also try XGBoost Regressor as another possible model. "
   ]
  },
  {
   "cell_type": "code",
   "execution_count": 50,
   "metadata": {},
   "outputs": [],
   "source": [
    "#!pip install xgboost\n",
    "from xgboost import XGBRegressor"
   ]
  },
  {
   "cell_type": "code",
   "execution_count": null,
   "metadata": {},
   "outputs": [
    {
     "name": "stdout",
     "output_type": "stream",
     "text": [
      "101.82688008798233\n"
     ]
    }
   ],
   "source": [
    "# Split data into training and hold out set\n",
    "df_tt, df_ho = train_test_split(df_train, test_size=0.2,\\\n",
    "                                      shuffle=True, random_state=216)\n",
    "\n",
    "# Initialize model\n",
    "xgb = XGBRegressor()\n",
    "\n",
    "# Fit model\n",
    "xgb.fit(df_tt[features], df_tt['FirstYearCheckouts'])\n",
    "\n",
    "# Make predictions\n",
    "pred = xgb.predict(df_ho[features])\n",
    "\n",
    "rmse = root_mean_squared_error(pred, df_ho['FirstYearCheckouts'])\n",
    "\n",
    "print('RMSE for XGBoost Regressor:', rmse)\n",
    "\n"
   ]
  },
  {
   "cell_type": "markdown",
   "metadata": {},
   "source": [
    "We see that, by a small magnitude, XGBoost Regressor seems to perform the best of the models we have considered. "
   ]
  },
  {
   "cell_type": "markdown",
   "metadata": {},
   "source": [
    "We also try a small NN to see if it can capture any additional structure. "
   ]
  },
  {
   "cell_type": "code",
   "execution_count": 52,
   "metadata": {},
   "outputs": [],
   "source": [
    "from sklearn.neural_network import MLPRegressor"
   ]
  },
  {
   "cell_type": "code",
   "execution_count": 54,
   "metadata": {},
   "outputs": [
    {
     "name": "stdout",
     "output_type": "stream",
     "text": [
      "RMSE for NN with 1 hidden layers each with 100 neurons: 106.00505114384612\n"
     ]
    }
   ],
   "source": [
    "nn = MLPRegressor(\n",
    "    activation='relu',\n",
    "    hidden_layer_sizes=(100,),\n",
    "    alpha=0.001,\n",
    "    random_state=20,\n",
    "    early_stopping=False\n",
    ")\n",
    "\n",
    "nn.fit(df_tt[features], df_tt['FirstYearCheckouts'])\n",
    "\n",
    "pred = nn.predict(df_ho[features])\n",
    "\n",
    "rmse = root_mean_squared_error(pred, df_ho['FirstYearCheckouts'])\n",
    "\n",
    "print('RMSE for NN with 1 hidden layers each with 100 neurons:', rmse)\n"
   ]
  },
  {
   "cell_type": "markdown",
   "metadata": {},
   "source": [
    "We note that this does not improve our estimate compared with RandomForest and XgBoost Regressor. "
   ]
  },
  {
   "cell_type": "markdown",
   "metadata": {},
   "source": [
    "### Predicting log(FirstYearCheckouts):\n",
    "\n",
    "We could also look at predicting the order of magnitude of the first year checkouts, and consider instead predicting on the log of the FirstYearCheckouts with all the same models as above besides KNN as this did not provide much improvement. "
   ]
  },
  {
   "cell_type": "code",
   "execution_count": 109,
   "metadata": {},
   "outputs": [],
   "source": [
    "df_train['logFYC'] = np.log10(df_train['FirstYearCheckouts'])"
   ]
  },
  {
   "cell_type": "markdown",
   "metadata": {},
   "source": [
    "#### Baseline:"
   ]
  },
  {
   "cell_type": "code",
   "execution_count": 110,
   "metadata": {},
   "outputs": [],
   "source": [
    "## Make KFold object to be used on training dataset\n",
    "kfold = KFold(n_splits = 5,\n",
    "              shuffle = True,\n",
    "              random_state = 216)\n",
    "\n",
    "\n",
    "rmses = np.zeros(5)\n",
    "\n",
    "for i, (train_index, test_index) in enumerate(kfold.split(df_train, df_train['logFYC'])):\n",
    "    ## get the kfold training and holdout data\n",
    "    X_tt = df_train.iloc[train_index]\n",
    "    X_ho = df_train.iloc[test_index]\n",
    "\n",
    "    #Get average of the first year checkouts for our train set \n",
    "    baseline_pred = np.ones(len(X_ho)) * X_tt['logFYC'].mean() \n",
    "\n",
    "    ## Record the rmses\n",
    "    rmses[i] = root_mean_squared_error(X_ho['logFYC'], baseline_pred)"
   ]
  },
  {
   "cell_type": "code",
   "execution_count": 111,
   "metadata": {},
   "outputs": [
    {
     "name": "stdout",
     "output_type": "stream",
     "text": [
      "[0.54403594 0.54392708 0.54377702 0.5427933  0.54642483]\n",
      "0.5441916335734021\n"
     ]
    }
   ],
   "source": [
    "print(rmses)\n",
    "print(rmses.mean())"
   ]
  },
  {
   "cell_type": "code",
   "execution_count": 112,
   "metadata": {},
   "outputs": [
    {
     "data": {
      "text/plain": [
       "3.4673685045253166"
      ]
     },
     "execution_count": 112,
     "metadata": {},
     "output_type": "execute_result"
    }
   ],
   "source": [
    "10**0.54"
   ]
  },
  {
   "cell_type": "markdown",
   "metadata": {},
   "source": [
    "As the RMSE is in log-space it behaves like a multipicative factor.  Thus, the model's predictions are, on average, about 3.47 times away from the actual values in the original space, providing a measure of multiplicative error rather than absolute error."
   ]
  },
  {
   "cell_type": "code",
   "execution_count": 113,
   "metadata": {},
   "outputs": [
    {
     "name": "stdout",
     "output_type": "stream",
     "text": [
      "The average number of log first year checkouts for the whole dataset is 1.2983440300851525\n",
      "The minimum and maximum log first year checkouts in our dataset are 0.0 and 3.983761560286165 respectively\n"
     ]
    }
   ],
   "source": [
    "print('The average number of log first year checkouts for the whole dataset is', df_train['logFYC'].mean())\n",
    "print('The minimum and maximum log first year checkouts in our dataset are', df_train['logFYC'].min(), \\\n",
    "      'and', df_train['logFYC'].max(), 'respectively')"
   ]
  },
  {
   "cell_type": "markdown",
   "metadata": {},
   "source": [
    "#### Linear Model: "
   ]
  },
  {
   "cell_type": "code",
   "execution_count": 114,
   "metadata": {},
   "outputs": [],
   "source": [
    "# Array to store rmse\n",
    "rmse = np.zeros(5)\n",
    "\n",
    "# Initialize LinearRegression Model\n",
    "lr = LinearRegression()\n",
    "\n",
    "for i, (train_index, test_index) in enumerate(kfold.split(df_train, df_train['logFYC'])):\n",
    "\n",
    "    ## get the kfold training and holdout data\n",
    "    X_tt = df_train.iloc[train_index]\n",
    "    X_ho = df_train.iloc[test_index]\n",
    "\n",
    "    ## Fit model\n",
    "    lr.fit(X_tt[features], X_tt['logFYC'])\n",
    "\n",
    "    ## Generate predictions on the holdout set\n",
    "    lr_preds = lr.predict(X_ho[features])\n",
    "\n",
    "    ## Record the rmses\n",
    "    rmses[i] = root_mean_squared_error(X_ho['logFYC'], lr_preds)"
   ]
  },
  {
   "cell_type": "code",
   "execution_count": 115,
   "metadata": {},
   "outputs": [
    {
     "name": "stdout",
     "output_type": "stream",
     "text": [
      "[0.49952901 0.49982952 0.49544793 0.49652082 0.50059854]\n",
      "0.49838516534916044\n"
     ]
    }
   ],
   "source": [
    "print(rmses)\n",
    "print(rmses.mean())"
   ]
  },
  {
   "cell_type": "markdown",
   "metadata": {},
   "source": [
    "#### Random Forest Model:"
   ]
  },
  {
   "cell_type": "code",
   "execution_count": 116,
   "metadata": {},
   "outputs": [
    {
     "data": {
      "text/plain": [
       "Index(['Title', 'Creator', 'UsageClass', 'CheckoutMonth', 'CheckoutYear',\n",
       "       'PreviousYearCheckoutsSum', 'PreviousYearCheckoutsMean',\n",
       "       'PreviousYearPublished', 'PreviousYearPublishedMean',\n",
       "       'FirstYearCheckouts', 'other', 'juvenile', 'mystery', 'history',\n",
       "       'nonfiction', 'fiction', 'romance', 'fantasy/sci-fi', 'biography',\n",
       "       'young adult', 'horror/thriller', 'BOOK', 'EBOOK', 'AUDIOBOOK',\n",
       "       'SOUNDDISC', 'OTHER', 'VIDEODISC', 'other publisher',\n",
       "       'simon & schuster', 'harpercollins', 'penguin random house', 'hachette',\n",
       "       'blackstone', 'harlequin', 'macmillan', 'scholastic',\n",
       "       'lightning source', 'recorded books', 'brilliance', 'logFYC'],\n",
       "      dtype='object')"
      ]
     },
     "execution_count": 116,
     "metadata": {},
     "output_type": "execute_result"
    }
   ],
   "source": [
    "df_train.columns"
   ]
  },
  {
   "cell_type": "code",
   "execution_count": 117,
   "metadata": {},
   "outputs": [
    {
     "name": "stdout",
     "output_type": "stream",
     "text": [
      "Root Mean Squared Error: 0.40904772203186623\n"
     ]
    }
   ],
   "source": [
    "from sklearn.ensemble import RandomForestRegressor\n",
    "from sklearn.model_selection import train_test_split\n",
    "\n",
    "\n",
    "df_tt, df_ho = train_test_split(df_train, test_size=0.2,\\\n",
    "                                      shuffle=True, random_state=216)\n",
    "\n",
    "# Create a Random Forest Regressor model\n",
    "model = RandomForestRegressor(n_estimators=100, random_state=42)\n",
    "\n",
    "# Train the model\n",
    "model.fit(df_tt[features], df_tt['logFYC'])\n",
    "\n",
    "# Make predictions on the test set\n",
    "y_pred = model.predict(df_ho[features])\n",
    "\n",
    "# Evaluate the model\n",
    "rmse = root_mean_squared_error(df_ho['logFYC'], y_pred)\n",
    "print(\"Root Mean Squared Error:\", rmse)"
   ]
  },
  {
   "cell_type": "code",
   "execution_count": 118,
   "metadata": {},
   "outputs": [
    {
     "data": {
      "text/plain": [
       "2.51188643150958"
      ]
     },
     "execution_count": 118,
     "metadata": {},
     "output_type": "execute_result"
    }
   ],
   "source": [
    "10**(0.4)"
   ]
  },
  {
   "cell_type": "markdown",
   "metadata": {},
   "source": [
    "#### XG Boost Regressor Model: "
   ]
  },
  {
   "cell_type": "code",
   "execution_count": 119,
   "metadata": {},
   "outputs": [
    {
     "name": "stdout",
     "output_type": "stream",
     "text": [
      "RMSE for XGBoost Regressor: 0.4020223885124308\n"
     ]
    }
   ],
   "source": [
    "# Split data into training and hold out set\n",
    "df_tt, df_ho = train_test_split(df_train, test_size=0.2,\\\n",
    "                                      shuffle=True, random_state=216)\n",
    "\n",
    "# Initialize model\n",
    "xgb = XGBRegressor()\n",
    "\n",
    "# Fit model\n",
    "xgb.fit(df_tt[features], df_tt['logFYC'])\n",
    "\n",
    "# Make predictions\n",
    "pred = xgb.predict(df_ho[features])\n",
    "\n",
    "rmse = root_mean_squared_error(pred, df_ho['logFYC'])\n",
    "\n",
    "print('RMSE for XGBoost Regressor:', rmse)\n",
    "\n"
   ]
  }
 ],
 "metadata": {
  "kernelspec": {
   "display_name": "base",
   "language": "python",
   "name": "python3"
  },
  "language_info": {
   "codemirror_mode": {
    "name": "ipython",
    "version": 3
   },
   "file_extension": ".py",
   "mimetype": "text/x-python",
   "name": "python",
   "nbconvert_exporter": "python",
   "pygments_lexer": "ipython3",
   "version": "3.12.2"
  }
 },
 "nbformat": 4,
 "nbformat_minor": 2
}
