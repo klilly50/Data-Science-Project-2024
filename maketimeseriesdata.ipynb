{
 "cells": [
  {
   "cell_type": "code",
   "execution_count": 1,
   "metadata": {},
   "outputs": [],
   "source": [
    "import pandas as pd"
   ]
  },
  {
   "cell_type": "code",
   "execution_count": 24,
   "metadata": {},
   "outputs": [],
   "source": [
    "#we just want to collect the montly number of checkouts, so we only use the the material type, checkout year, checkout month, and checkouts columns\n",
    "df=pd.read_csv('data/Checkouts_by_Title.csv',usecols=['MaterialType','CheckoutYear','CheckoutMonth','Checkouts'])\n",
    "#If we want to do tests on smaller datasets to make sure the code is working, we could just sample some of the rows at this step"
   ]
  },
  {
   "cell_type": "code",
   "execution_count": 26,
   "metadata": {},
   "outputs": [],
   "source": [
    "#get rid of anything with missing values\n",
    "df=df.dropna()"
   ]
  },
  {
   "cell_type": "code",
   "execution_count": 39,
   "metadata": {},
   "outputs": [],
   "source": [
    "#We want need to conver the Checkout Year and Checkout Month into a date. This needs a day to work, so we say that the first of the month is our day\n",
    "\n",
    "df['day']=1\n",
    "\n",
    "df=df.rename(columns={'CheckoutYear':'year','CheckoutMonth':'month'})\n",
    "#to_datetime needs to have a column named year and a column named month\n",
    "df['date']=pd.to_datetime( df[['year','month','day']])"
   ]
  },
  {
   "cell_type": "code",
   "execution_count": null,
   "metadata": {},
   "outputs": [],
   "source": [
    "#We get the first and last months in our dataset\n",
    "display(df['date'].max())\n",
    "display(df['date'].min())"
   ]
  },
  {
   "cell_type": "code",
   "execution_count": 44,
   "metadata": {},
   "outputs": [],
   "source": [
    "#this gives us a pandas series covering the months that we care about.\n",
    "#The start is df['date'].min() and the end is df['date'].max(), it would be more proper to have those as variables rather than hardcoded\n",
    "months_of_interest=pd.date_range(start='2005-04-01', end='2024-08-01',freq='MS')"
   ]
  },
  {
   "cell_type": "code",
   "execution_count": 46,
   "metadata": {},
   "outputs": [],
   "source": [
    "#this makes a data frame where the first two is our months that we care about\n",
    "dfmonths=months_of_interest.to_frame(index=False, name='Year-Month')"
   ]
  },
  {
   "cell_type": "code",
   "execution_count": null,
   "metadata": {},
   "outputs": [],
   "source": [
    "#This gives us a list of all the \"Material Types\", and how many checkouts of that type.\n",
    "materials=df['MaterialType'].value_counts()\n",
    "\n"
   ]
  },
  {
   "cell_type": "code",
   "execution_count": null,
   "metadata": {},
   "outputs": [],
   "source": [
    "#The output of the above cell is truncated, this lets us see everything.\n",
    "print(materials.to_string())"
   ]
  },
  {
   "cell_type": "code",
   "execution_count": null,
   "metadata": {},
   "outputs": [],
   "source": [
    "#This functions gives us the number of checkouts of a given material type in a given month\n",
    "def number_of_checkout(yearmonth,materialtype):\n",
    "    return df[(df['MaterialType']==materialtype) & (df['date']==yearmonth)].Checkouts.sum()\n"
   ]
  },
  {
   "cell_type": "code",
   "execution_count": 64,
   "metadata": {},
   "outputs": [],
   "source": [
    "#I picked these as the materials we cared most about, these are the ones with over 10000000 checkouts\n",
    "listofmaterialswecareabout=['BOOK','EBOOK','SOUNDDISC','VIDEODISC','AUDIOBOOK']"
   ]
  },
  {
   "cell_type": "code",
   "execution_count": 65,
   "metadata": {},
   "outputs": [],
   "source": [
    "#This loops over the material we care about and for each of them adds in a column with the number of checkouts in that type in each month\n",
    "#This code took about an hour to run on my machine.\n",
    "for materialtype in listofmaterialswecareabout:\n",
    "    dfmonths[materialtype]= dfmonths.apply(lambda x: number_of_checkout(yearmonth=x['Year-Month'],materialtype=materialtype), axis=1 )"
   ]
  },
  {
   "cell_type": "code",
   "execution_count": null,
   "metadata": {},
   "outputs": [],
   "source": [
    "dfmonths.head()"
   ]
  },
  {
   "cell_type": "code",
   "execution_count": 73,
   "metadata": {},
   "outputs": [],
   "source": [
    "#This turns the material types into a list that we can iterate over\n",
    "materialslist=materials.index.tolist()"
   ]
  },
  {
   "cell_type": "code",
   "execution_count": null,
   "metadata": {},
   "outputs": [],
   "source": [
    "#This counts the number of checkouts in a given month of all the data types we want to classify as \"other\"\n",
    "#Idea for refactoring: it would be faster to get the total checkouts in a month and then subtract the sum of the types we care most about\n",
    "def number_of_other_checkout(yearmonth):\n",
    "    checkouts=0\n",
    "    for x in materialslist:\n",
    "        if x not in listofmaterialswecareabout:\n",
    "            checkouts=checkouts+number_of_checkout(yearmonth,x)\n",
    "    return checkouts\n",
    "\n",
    "# number_of_other_checkout('2005-04-01')"
   ]
  },
  {
   "cell_type": "code",
   "execution_count": 78,
   "metadata": {},
   "outputs": [],
   "source": [
    "#This adds in the \"Other\" column\n",
    "# This ran for about 10 hours on my machine \n",
    "dfmonths['Other']=dfmonths['Year-Month'].apply(number_of_other_checkout)"
   ]
  },
  {
   "cell_type": "code",
   "execution_count": 81,
   "metadata": {},
   "outputs": [],
   "source": [
    "dfmonths.to_csv(\"checkoutstimeseries.csv\")"
   ]
  },
  {
   "cell_type": "code",
   "execution_count": null,
   "metadata": {},
   "outputs": [],
   "source": []
  }
 ],
 "metadata": {
  "kernelspec": {
   "display_name": "erdos_fall_2024",
   "language": "python",
   "name": "python3"
  },
  "language_info": {
   "codemirror_mode": {
    "name": "ipython",
    "version": 3
   },
   "file_extension": ".py",
   "mimetype": "text/x-python",
   "name": "python",
   "nbconvert_exporter": "python",
   "pygments_lexer": "ipython3",
   "version": "3.12.5"
  }
 },
 "nbformat": 4,
 "nbformat_minor": 2
}
