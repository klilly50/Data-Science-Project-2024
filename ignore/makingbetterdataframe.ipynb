{
 "cells": [
  {
   "cell_type": "code",
   "execution_count": 1,
   "metadata": {},
   "outputs": [],
   "source": [
    "import pandas as pd\n",
    "import numpy as np\n",
    "import matplotlib.pyplot as plt\n",
    "import seaborn as sns\n",
    "# from langdetect import detect\n",
    "# from langdetect.lang_detect_exception import LangDetectException\n",
    "sns.set_style(\"whitegrid\")"
   ]
  },
  {
   "cell_type": "markdown",
   "metadata": {},
   "source": [
    "First we load the data, and convert the 'dates' column to a dates datatype."
   ]
  },
  {
   "cell_type": "code",
   "execution_count": null,
   "metadata": {},
   "outputs": [],
   "source": [
    "df_raw=pd.read_csv('printbooksafter2017.csv')\n",
    "df_raw['dates'] = pd.to_datetime(df_raw['dates'])\n",
    "\n",
    "df_raw.head()"
   ]
  },
  {
   "cell_type": "markdown",
   "metadata": {},
   "source": [
    "We want to make a new data frame with one row for each title in the library, and then add a column for each month with the number of checkouts of that title in that month. First we get a new data frame, where we only carry over the Title, Creator, and Subjects field. You might also want the publication year, but we'll later write a function to give us the publication month so I didn't include this."
   ]
  },
  {
   "cell_type": "code",
   "execution_count": 3,
   "metadata": {},
   "outputs": [],
   "source": [
    "df= df_raw.filter([ 'Title', 'Creator', 'Subjects'])"
   ]
  },
  {
   "cell_type": "code",
   "execution_count": null,
   "metadata": {},
   "outputs": [],
   "source": [
    "df.head()"
   ]
  },
  {
   "cell_type": "markdown",
   "metadata": {},
   "source": [
    "We check that these two data frames have the same length (5916759 rows)."
   ]
  },
  {
   "cell_type": "code",
   "execution_count": null,
   "metadata": {},
   "outputs": [],
   "source": [
    "display(len(df_raw))\n",
    "        \n",
    "display(len(df))"
   ]
  },
  {
   "cell_type": "markdown",
   "metadata": {},
   "source": [
    "Now, this dataframe has several rows repeated, a book will appear once for each month it was checked out. We remove this."
   ]
  },
  {
   "cell_type": "code",
   "execution_count": null,
   "metadata": {},
   "outputs": [],
   "source": [
    "df=df.drop_duplicates()\n",
    "\n",
    "len(df)"
   ]
  },
  {
   "cell_type": "markdown",
   "metadata": {},
   "source": [
    "So, after we remove the duplicates the size has dropped by about a factor of 10.\n",
    "\n",
    "We'll see that some code we would like to use to add in these month columns doesn't run-- I suspect that books whose names either start or end with \" or ' are messing things up. I'll make two new sets of data frames to try to deal with this issue. The first will take a sample of our original data frame and strip out all quotation marks, and the second set will just be derived from the first few entries of our original dataframe.\n",
    "\n",
    "For the data set where we strip the quotations we just take a sample because the code to add in the checkouts is too slow on the whole data set. It was even to slow to run on a sample of 5,000 rows (although this was on a very old machine)."
   ]
  },
  {
   "cell_type": "code",
   "execution_count": 7,
   "metadata": {},
   "outputs": [],
   "source": [
    "def removequotes(string):\n",
    "    string=string.replace('\"', \"\")\n",
    "    string=string.replace(\"'\",\"\")\n",
    "    return string"
   ]
  },
  {
   "cell_type": "code",
   "execution_count": null,
   "metadata": {},
   "outputs": [],
   "source": [
    "df_rawwithoutquotes=df_raw.sample(n=1000)\n",
    "\n",
    "df_rawwithoutquotes['Title']=df_rawwithoutquotes['Title'].apply(removequotes)\n",
    "\n",
    "dfwithoutquotes=df_rawwithoutquotes.filter([ 'Title', 'Creator', 'Subjects'])\n",
    "dfwithoutquotes=dfwithoutquotes.drop_duplicates()\n",
    "\n",
    "\n",
    "display(len(df_rawwithoutquotes))\n",
    "display(len(dfwithoutquotes))"
   ]
  },
  {
   "cell_type": "markdown",
   "metadata": {},
   "source": [
    "It is interesting to see that in the sample there aren very few repeated rows. I noticed this behavior with a sample as high at 50,000, there were only 4,000 duplicated. I'm not sure how to explain this, I don't know if it is surprsing or not."
   ]
  },
  {
   "cell_type": "code",
   "execution_count": 10,
   "metadata": {},
   "outputs": [],
   "source": [
    "df_test=df.head(5)\n",
    "df_rawtest=df_raw.head(5)"
   ]
  },
  {
   "cell_type": "markdown",
   "metadata": {},
   "source": [
    "Now we want to add in the information about checkouts each month. We'll make a sequence of the dates we are interested in, and loop over that to add each month as a column and for each month to add the number of checkouts for that month"
   ]
  },
  {
   "cell_type": "code",
   "execution_count": 11,
   "metadata": {},
   "outputs": [],
   "source": [
    "import datetime\n",
    "\n",
    "months_of_interest=pd.date_range(start='2018-01-01', end='2024-08-01',freq='MS')\n"
   ]
  },
  {
   "cell_type": "code",
   "execution_count": null,
   "metadata": {},
   "outputs": [],
   "source": [
    "print(months_of_interest)"
   ]
  },
  {
   "cell_type": "markdown",
   "metadata": {},
   "source": [
    "Now we write a function that takes in a title and a month and returns the number of checkouts in that month. This code runs but throws an error message including: \n",
    "```\n",
    "'The behavior of 'isin' with dtype=datetime64[ns] and castable values (e.g. strings) is deprecated'. \n",
    "```\n",
    "I think that to fix this you need to tell the function that the month variable is a date of the appropriate kind, but I don't know how to do this."
   ]
  },
  {
   "cell_type": "code",
   "execution_count": null,
   "metadata": {},
   "outputs": [],
   "source": [
    "def number_of_checkouts_in_month(title,month):\n",
    "    #this function is really slow, using filter might be better than query.\n",
    "    #this throws a warning, that the behavior of isin with dates and castable values is deprecated\n",
    "    if (df_raw.query(f\"dates =='{month}' and Title=='{title}' \").shape[0])==0:\n",
    "        #df_raw.query(f\"dates =='{month}' and Title=='{title}' \")['Checkouts'] returns [] if the title wasn't checked out in that month\n",
    "        return 0\n",
    "    else:\n",
    "        return (df_raw.query(f\"dates =='{month}' and Title=='{title}' \")['Checkouts'].iloc[0])\n",
    "\n",
    "number_of_checkouts_in_month(title='Oddity / Sarah Cannon.', month='2022-08-01')"
   ]
  },
  {
   "cell_type": "markdown",
   "metadata": {},
   "source": [
    "Now we can loop over months_of_interest and use the apply method to add our new columns. Unfortunately, this doesn't work right now! We get the error:\n",
    "```\n",
    "('unterminated string literal (detected at line 1)', (1, 82))\n",
    "```"
   ]
  },
  {
   "cell_type": "code",
   "execution_count": null,
   "metadata": {},
   "outputs": [],
   "source": [
    "for month in months_of_interest:\n",
    "    df[f'{month}']= df_raw.apply(lambda x: number_of_checkouts_in_month(title=x['Title'], month=month), axis=1)\n",
    "#This fails to run, it throws the error ('unterminated string literal (detected at line 1)', (1, 82)).\n",
    "# I suspect this has to do with the entries in the title field have a quotation mark in the beginning or ending.\n",
    "\n"
   ]
  },
  {
   "cell_type": "markdown",
   "metadata": {},
   "source": [
    "We see that this procedure does work on our toy data frames."
   ]
  },
  {
   "cell_type": "code",
   "execution_count": null,
   "metadata": {},
   "outputs": [],
   "source": [
    "def number_of_checkouts_in_monthtest(title,month):\n",
    "    #this throws a warning, that the behavior of isin with dates and castable values is deprecated\n",
    "    if (df_rawtest.query(f\"dates =='{month}' and Title=='{title}' \").shape[0])==0:\n",
    "        #df_rawtest.query(f\"dates =='{month}' and Title=='{title}' \")['Checkouts'] returns [] if the title wasn't checked out in that month\n",
    "        return 0\n",
    "    else:\n",
    "        return (df_rawtest.query(f\"dates =='{month}' and Title=='{title}' \")['Checkouts'].iloc[0])\n",
    "\n",
    "number_of_checkouts_in_monthtest(title='Oddity / Sarah Cannon.', month='2022-08-01')"
   ]
  },
  {
   "cell_type": "code",
   "execution_count": null,
   "metadata": {},
   "outputs": [],
   "source": [
    "for month in months_of_interest:\n",
    "    df_test[f'{month}']= df_rawtest.apply(lambda x: number_of_checkouts_in_monthtest(title=x['Title'], month=month), axis=1)"
   ]
  },
  {
   "cell_type": "markdown",
   "metadata": {},
   "source": [
    "We see that we have the columns we want."
   ]
  },
  {
   "cell_type": "code",
   "execution_count": null,
   "metadata": {},
   "outputs": [],
   "source": [
    "df_test.head()"
   ]
  },
  {
   "cell_type": "markdown",
   "metadata": {},
   "source": [
    "These books were all checked out in August of 2022, we can see that those columns don't have zeros."
   ]
  },
  {
   "cell_type": "code",
   "execution_count": null,
   "metadata": {},
   "outputs": [],
   "source": [
    "df_test['2022-08-01 00:00:00']"
   ]
  },
  {
   "cell_type": "markdown",
   "metadata": {},
   "source": [
    "Now, let's see if this works on the sample of data frames with the quotation marks stripped out."
   ]
  },
  {
   "cell_type": "code",
   "execution_count": null,
   "metadata": {},
   "outputs": [],
   "source": [
    "def number_of_checkouts_in_monthnoquotes(title,month):\n",
    "    #this throws a warning, that the behavior of isin with dates and castable values is deprecated\n",
    "    if (df_rawwithoutquotes.query(f\"dates =='{month}' and Title=='{title}' \").shape[0])==0:\n",
    "        #df_rawwithoutquotes.query(f\"dates =='{month}' and Title=='{title}' \")['Checkouts'] returns [] if the title wasn't checked out in that month\n",
    "        return 0\n",
    "    else:\n",
    "        return (df_rawwithoutquotes.query(f\"dates =='{month}' and Title=='{title}' \")['Checkouts'].iloc[0])\n",
    "\n",
    "number_of_checkouts_in_monthnoquotes(title='Oddity / Sarah Cannon.', month='2022-08-01')\n",
    "#note: this number of checkouts is zero simply since the sarah cannon book isn't in this corpus."
   ]
  },
  {
   "cell_type": "markdown",
   "metadata": {},
   "source": [
    "I ran the following code on the big data set (5 million rows) with the columns stripped out and it ran all night without finishing. It even ran for about an hour on a sample of size 50,000 before I gave up.\n",
    "\n",
    "I think that the number of checkouts function might run faster using filter rather than query."
   ]
  },
  {
   "cell_type": "code",
   "execution_count": null,
   "metadata": {},
   "outputs": [],
   "source": [
    "for month in months_of_interest:\n",
    "    dfwithoutquotes[f'{month}']= df_rawwithoutquotes.apply(lambda x: number_of_checkouts_in_monthnoquotes(title=x['Title'], month=month), axis=1)"
   ]
  },
  {
   "cell_type": "code",
   "execution_count": null,
   "metadata": {},
   "outputs": [],
   "source": [
    "dfwithoutquotes.head()"
   ]
  },
  {
   "cell_type": "code",
   "execution_count": 26,
   "metadata": {},
   "outputs": [],
   "source": [
    "dfwithoutquotes.to_csv('datafilewithmonthsadded.csv')"
   ]
  },
  {
   "cell_type": "code",
   "execution_count": null,
   "metadata": {},
   "outputs": [],
   "source": []
  }
 ],
 "metadata": {
  "kernelspec": {
   "display_name": "erdos_fall_2024",
   "language": "python",
   "name": "python3"
  },
  "language_info": {
   "codemirror_mode": {
    "name": "ipython",
    "version": 3
   },
   "file_extension": ".py",
   "mimetype": "text/x-python",
   "name": "python",
   "nbconvert_exporter": "python",
   "pygments_lexer": "ipython3",
   "version": "3.12.5"
  }
 },
 "nbformat": 4,
 "nbformat_minor": 2
}
