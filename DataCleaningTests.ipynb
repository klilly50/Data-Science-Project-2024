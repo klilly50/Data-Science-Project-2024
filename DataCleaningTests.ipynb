{
 "cells": [
  {
   "cell_type": "code",
   "execution_count": 3,
   "id": "392b89db-9b48-4ba2-bc89-fc79ae423bcd",
   "metadata": {},
   "outputs": [
    {
     "name": "stdout",
     "output_type": "stream",
     "text": [
      "Collecting langdetect\n",
      "  Downloading langdetect-1.0.9.tar.gz (981 kB)\n",
      "     ---------------------------------------- 0.0/981.5 kB ? eta -:--:--\n",
      "     ---------------------------------------- 10.2/981.5 kB ? eta -:--:--\n",
      "     --- ----------------------------------- 81.9/981.5 kB 1.2 MB/s eta 0:00:01\n",
      "     ---------------- --------------------- 430.1/981.5 kB 3.9 MB/s eta 0:00:01\n",
      "     -------------------------------------- 981.5/981.5 kB 6.2 MB/s eta 0:00:00\n",
      "  Preparing metadata (setup.py): started\n",
      "  Preparing metadata (setup.py): finished with status 'done'\n",
      "Requirement already satisfied: six in c:\\users\\klill\\anaconda3\\lib\\site-packages (from langdetect) (1.16.0)\n",
      "Building wheels for collected packages: langdetect\n",
      "  Building wheel for langdetect (setup.py): started\n",
      "  Building wheel for langdetect (setup.py): finished with status 'done'\n",
      "  Created wheel for langdetect: filename=langdetect-1.0.9-py3-none-any.whl size=993255 sha256=4962190bfd53871a3bda91033f5bca889233675b673ea4669b5d7552d08c0755\n",
      "  Stored in directory: c:\\users\\klill\\appdata\\local\\pip\\cache\\wheels\\d1\\c1\\d9\\7e068de779d863bc8f8fc9467d85e25cfe47fa5051fff1a1bb\n",
      "Successfully built langdetect\n",
      "Installing collected packages: langdetect\n",
      "Successfully installed langdetect-1.0.9\n",
      "Note: you may need to restart the kernel to use updated packages.\n"
     ]
    }
   ],
   "source": [
    "# pip install langdetect"
   ]
  },
  {
   "cell_type": "code",
   "execution_count": 3,
   "id": "f08c0a88-07e4-40a3-897a-81b2b474e31e",
   "metadata": {},
   "outputs": [],
   "source": [
    "import pandas as pd\n",
    "from langdetect import detect\n",
    "from langdetect.lang_detect_exception import LangDetectException"
   ]
  },
  {
   "cell_type": "code",
   "execution_count": 5,
   "id": "87954f0b-3867-4a8f-901a-b337425d8c3f",
   "metadata": {},
   "outputs": [
    {
     "name": "stdout",
     "output_type": "stream",
     "text": [
      "                    text_column\n",
      "0  This is an English sentence.\n",
      "1                       这是中文句子。\n",
      "2         Another English text.\n",
      "3                    这是另一个中文句子。\n"
     ]
    }
   ],
   "source": [
    "# Creating a sample dataframe with both Chinese and English text\n",
    "data = {\n",
    "    'text_column': [\n",
    "        'This is an English sentence.',\n",
    "        '这是中文句子。',\n",
    "        'Another English text.',\n",
    "        '这是另一个中文句子。'\n",
    "    ]\n",
    "}\n",
    "\n",
    "df = pd.DataFrame(data)\n",
    "\n",
    "# Display the DataFrame\n",
    "print(df)"
   ]
  },
  {
   "cell_type": "code",
   "execution_count": 7,
   "id": "d71a2bcc-34bf-4d44-855e-5238a354002b",
   "metadata": {},
   "outputs": [
    {
     "name": "stdout",
     "output_type": "stream",
     "text": [
      "                    text_column\n",
      "0  This is an English sentence.\n",
      "2         Another English text.\n"
     ]
    }
   ],
   "source": [
    "# Assuming df is your pandas DataFrame and the column you're checking is 'text_column'\n",
    "def is_english(text):\n",
    "    try:\n",
    "        return detect(text) == 'en'\n",
    "    except LangDetectException:\n",
    "        return False\n",
    "\n",
    "# Filter DataFrame to keep only rows where the text is detected as English\n",
    "df_filtered = df[df['text_column'].apply(is_english)]\n",
    "\n",
    "# Display the filtered DataFrame\n",
    "print(df_filtered)"
   ]
  },
  {
   "cell_type": "code",
   "execution_count": 11,
   "id": "81497e75-b11e-47b3-97a2-704942b28425",
   "metadata": {},
   "outputs": [
    {
     "name": "stdout",
     "output_type": "stream",
     "text": [
      "   year_column  year_int\n",
      "0  Year: 2021!      2021\n",
      "1    Year@2019      2019\n",
      "2       #2020$      2020\n",
      "3         2022      2022\n"
     ]
    }
   ],
   "source": [
    "# Sample DataFrame\n",
    "data = {'year_column': ['Year: 2021!', 'Year@2019', '#2020$', '2022']}\n",
    "df = pd.DataFrame(data)\n",
    "\n",
    "# Extract numeric part and convert to float\n",
    "df['year_int'] = df['year_column'].str.extract(r'(\\d+)').astype(int)\n",
    "\n",
    "# Display the updated DataFrame\n",
    "print(df)"
   ]
  },
  {
   "cell_type": "code",
   "execution_count": null,
   "id": "2d874ffb-952f-43fc-9b52-cf6cba9a7a8e",
   "metadata": {},
   "outputs": [],
   "source": []
  }
 ],
 "metadata": {
  "kernelspec": {
   "display_name": "Python 3 (ipykernel)",
   "language": "python",
   "name": "python3"
  },
  "language_info": {
   "codemirror_mode": {
    "name": "ipython",
    "version": 3
   },
   "file_extension": ".py",
   "mimetype": "text/x-python",
   "name": "python",
   "nbconvert_exporter": "python",
   "pygments_lexer": "ipython3",
   "version": "3.9.19"
  }
 },
 "nbformat": 4,
 "nbformat_minor": 5
}
