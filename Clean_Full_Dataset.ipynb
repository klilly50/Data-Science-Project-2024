{
 "cells": [
  {
   "cell_type": "code",
   "execution_count": 1,
   "metadata": {},
   "outputs": [],
   "source": [
    "import pandas as pd\n",
    "import re\n",
    "import numpy as np\n",
    "import matplotlib.pyplot as plt\n",
    "import seaborn as sns\n",
    "sns.set_style(\"whitegrid\")"
   ]
  },
  {
   "cell_type": "markdown",
   "metadata": {},
   "source": [
    "This two functions below help to clean the Titles column of the dataframe. \n",
    "    \n",
    "    check_ascii: inputs a string and outputs a boolean of whether or not string only        contains ascii characters\n",
    "\n",
    "    clean_title: inputs a string and removes all characters after a colon and a forward slash (in that order). It then removes any text inside parentheses and square brackets including the parentheses/brackets. Finally it strips the string of leading and trailing white space and makes it all lowercase. \n",
    "\n",
    "    clean_title_w_colon: an alterative title cleaning function where we do the same processing as in clean_title, but leave all colons and the information after then. \n",
    "\n",
    "    clean_creator: inputs a string, strips any leading and trailing whitespace and periods, and makes the string lowercase. It then splits the string on commas, white space, and single quotation marks ('), sorts the resulting list, filters out the non-alphabetical characters, and returns the resulting list as a single string separated by spaces. "
   ]
  },
  {
   "cell_type": "code",
   "execution_count": 2,
   "metadata": {},
   "outputs": [],
   "source": [
    "#Function to remove non-ascii Titles\n",
    "def check_ascii(text):\n",
    "    return str(text).isascii()"
   ]
  },
  {
   "cell_type": "code",
   "execution_count": 68,
   "metadata": {},
   "outputs": [],
   "source": [
    "#Function to clean the titles by removing the author after '/' or ':' and  any parenthesis or brackets\n",
    "def clean_title(title):\n",
    "    # Remove everything after the first colon\n",
    "    title = re.split(r':', title)[0]\n",
    "    # Remove everything after the first forward slash\n",
    "    title = re.split(r'/', title)[0]\n",
    "    # Remove text inside parentheses ()\n",
    "    title = re.sub(r'\\(.*?\\)', '', title)\n",
    "    # Remove text inside square brackets []\n",
    "    title = re.sub(r'\\[.*?\\]', '', title)\n",
    "    # Strip any extra spaces and make lowercase\n",
    "    return title.strip().lower()"
   ]
  },
  {
   "cell_type": "code",
   "execution_count": 4,
   "metadata": {},
   "outputs": [],
   "source": [
    "#Function to clean the titles by removing the author after '/', any parenthesis or brackets\n",
    "def clean_title_w_colon(title):\n",
    "    # Remove everything after the first colon\n",
    "    #title = re.split(r':', title)[0]\n",
    "    # Remove everything after the first forward slash\n",
    "    title = re.split(r'/', title)[0]\n",
    "    # Remove text inside parentheses ()\n",
    "    title = re.sub(r'\\(.*?\\)', '', title)\n",
    "    # Remove text inside square brackets []\n",
    "    title = re.sub(r'\\[.*?\\]', '', title)\n",
    "    # Strip any extra spaces and make lowercase\n",
    "    return title.strip().lower()"
   ]
  },
  {
   "cell_type": "code",
   "execution_count": 65,
   "metadata": {},
   "outputs": [],
   "source": [
    "#Function to clean the Creator column; it makes all words lowercase splits on commas, \n",
    "#white-space, hypens, and single quotes and takes the first two entries. It then sorts them to\n",
    "#  make sure \"First Last\" and \"Last, First\" have the same ordering, and then outputs \n",
    "# them as a joined string. Note this function also removes any . from names. (H. G. French => H G French)\n",
    "def clean_creator(text): \n",
    "    text= text.strip().lower() #Strip any leading/trailing white space and make lowercase\n",
    "    text= text.replace('.', '') #Remove any periods\n",
    "    text  = re.split(r\"[-,'\\s]+\", text) #Split on hypens, commas, single quotes, and white space\n",
    "    text = sorted(text) #Sort the results\n",
    "    filter =[str(i).isalpha() for i in text] #Check if string only has alphabetical characters\n",
    "    filtered_list = [i for (i, v) in zip(text, filter) if v] #Select strings with only alphabetical characters\n",
    "    return \" \".join(filtered_list)"
   ]
  },
  {
   "cell_type": "markdown",
   "metadata": {},
   "source": [
    "We first read in the full dataset, drop the ISBN column, and then drop any columns with NA values via dropna(). Note that we drop the ISBN column first because a majority of this column has NA values. We then apply the functions above to clean the Title and Creator columns and also clean the PublicationYear column using regular expressions. We write the result of this to \"Checkouts_NoISBN_cleaned.csv\". "
   ]
  },
  {
   "cell_type": "code",
   "execution_count": 5,
   "metadata": {},
   "outputs": [
    {
     "name": "stderr",
     "output_type": "stream",
     "text": [
      "/var/folders/b3/x1q3dl4x5bjfh37t7wlc0kmr0000gp/T/ipykernel_66881/3138114451.py:2: DtypeWarning: Columns (7) have mixed types. Specify dtype option on import or set low_memory=False.\n",
      "  df = pd.read_csv('data/Checkouts_by_Title.csv')\n"
     ]
    }
   ],
   "source": [
    "#Read in full dataset\n",
    "df = pd.read_csv('data/Checkouts_by_Title.csv')"
   ]
  },
  {
   "cell_type": "code",
   "execution_count": 6,
   "metadata": {},
   "outputs": [
    {
     "data": {
      "text/plain": [
       "(45794625, 11)"
      ]
     },
     "execution_count": 6,
     "metadata": {},
     "output_type": "execute_result"
    }
   ],
   "source": [
    "#Drop ISBN column since most of the entries are NA\n",
    "df_noISBN = df.drop(columns=['ISBN'])\n",
    "df_noISBN.shape"
   ]
  },
  {
   "cell_type": "code",
   "execution_count": 7,
   "metadata": {},
   "outputs": [
    {
     "data": {
      "text/plain": [
       "(31391235, 11)"
      ]
     },
     "execution_count": 7,
     "metadata": {},
     "output_type": "execute_result"
    }
   ],
   "source": [
    "#Drop the NA values now that the ISBN column is gone\n",
    "df_noISBN2 = df_noISBN.dropna()\n",
    "df_noISBN2.shape"
   ]
  },
  {
   "cell_type": "code",
   "execution_count": 8,
   "metadata": {},
   "outputs": [],
   "source": [
    "#Remove the non-ascii titles \n",
    "df_filtered= df_noISBN2[df_noISBN2['Title'].apply(check_ascii)]"
   ]
  },
  {
   "cell_type": "code",
   "execution_count": 66,
   "metadata": {},
   "outputs": [],
   "source": [
    "#Read in full dataset\n",
    "df_filtered = pd.read_csv('data/Checkouts_NoISBN_cleaned.csv')"
   ]
  },
  {
   "cell_type": "code",
   "execution_count": 70,
   "metadata": {},
   "outputs": [],
   "source": [
    "#Create new column with cleaned title; see clean_title function for details on cleaing\n",
    "df_filtered['CleanedTitle'] = df_filtered['Title'].apply(clean_title)\n",
    "df_filtered['CleanedCreator'] = df_filtered['Creator'].apply(clean_creator)"
   ]
  },
  {
   "cell_type": "code",
   "execution_count": 12,
   "metadata": {},
   "outputs": [
    {
     "name": "stderr",
     "output_type": "stream",
     "text": [
      "/var/folders/b3/x1q3dl4x5bjfh37t7wlc0kmr0000gp/T/ipykernel_66881/3583498060.py:3: SettingWithCopyWarning: \n",
      "A value is trying to be set on a copy of a slice from a DataFrame.\n",
      "Try using .loc[row_indexer,col_indexer] = value instead\n",
      "\n",
      "See the caveats in the documentation: https://pandas.pydata.org/pandas-docs/stable/user_guide/indexing.html#returning-a-view-versus-a-copy\n",
      "  df_filtered['PublicationYear'] = df_filtered['PublicationYear'].str.extract(r'(\\d+)')\n"
     ]
    }
   ],
   "source": [
    "#Clean the publication year column\n",
    "#Note: some values become NA in the extraction so we dropna and then cast as int\n",
    "df_filtered['PublicationYear'] = df_filtered['PublicationYear'].str.extract(r'(\\d+)')\n",
    "df_filtered= df_filtered.dropna()\n",
    "df_filtered['PublicationYear'] = df_filtered['PublicationYear'].astype(int)"
   ]
  },
  {
   "cell_type": "code",
   "execution_count": 24,
   "metadata": {},
   "outputs": [],
   "source": [
    "#Add a column CheckoutDate with DateTime type of the checkout month/year. \n",
    "# Note that here we set the day to be 1 for all checkouts. \n",
    "df_filtered['month'] = df_filtered.CheckoutMonth\n",
    "df_filtered['year'] = df_filtered.CheckoutYear\n",
    "df_filtered['CheckoutDate'] = pd.to_datetime(df_filtered[['month', 'year']].assign(DAY=1))\n",
    "df_filtered = df_filtered.drop(columns=['month', 'year'])"
   ]
  },
  {
   "cell_type": "code",
   "execution_count": 30,
   "metadata": {},
   "outputs": [],
   "source": [
    "df_filtered = df_filtered.drop(columns=['CheckoutYear', 'CheckoutMonth', 'CheckoutType'])"
   ]
  },
  {
   "cell_type": "code",
   "execution_count": 72,
   "metadata": {},
   "outputs": [
    {
     "data": {
      "text/plain": [
       "(30245393, 11)"
      ]
     },
     "execution_count": 72,
     "metadata": {},
     "output_type": "execute_result"
    }
   ],
   "source": [
    "df_filtered.shape"
   ]
  },
  {
   "cell_type": "code",
   "execution_count": 73,
   "metadata": {},
   "outputs": [],
   "source": [
    "df_filtered.to_csv('data/Checkouts_NoISBN_cleaned.csv', index=False)"
   ]
  },
  {
   "cell_type": "markdown",
   "metadata": {},
   "source": [
    "We note that we only have checkout data starting from 2005. Thus, we filter our data to only take books with PublicationYear > 2004. We also convert the CheckoutMonth and CheckoutYear column into a DateTime with Day set to 1 for each month. We save the result of this, after dropping the CheckoutYear and CheckoutMonth columns (which can be retrieved from the new CheckoutDate column), into \"Checkouts_2005_cleaned.csv\""
   ]
  },
  {
   "cell_type": "code",
   "execution_count": 74,
   "metadata": {},
   "outputs": [
    {
     "name": "stdout",
     "output_type": "stream",
     "text": [
      "(30245393, 11)\n",
      "(25179467, 11)\n"
     ]
    }
   ],
   "source": [
    "#Drop books with publication years before 2005 as we only have checkout data after 2005\n",
    "print(df_filtered.shape)\n",
    "df_2005 = df_filtered[df_filtered.PublicationYear > 2004]\n",
    "print(df_2005.shape)"
   ]
  },
  {
   "cell_type": "code",
   "execution_count": 78,
   "metadata": {},
   "outputs": [],
   "source": [
    "df_2005.to_csv('data/Checkouts_2005_cleaned.csv', index=False)"
   ]
  },
  {
   "cell_type": "markdown",
   "metadata": {},
   "source": [
    "Note that in the clean_title function, we remove all information after the first colon; this may or may not be the correct thing to do. It is possible that the after the colon information is not consistent among books (e.g. \"The Collector\" versus \"The Collector: The Novel\"), but it is also possible that this information differentiates between books in series (e.g. \"The Baby-Sitters Club: The Truth About Stacy\"). I think leaving the colon might be the better option, so we also create a CleanedTitle column with clean_title_w_colon and write the result to \"Checkouts_2005_cleaned_w_colon.csv\" in the data folder. "
   ]
  },
  {
   "cell_type": "code",
   "execution_count": 2,
   "metadata": {},
   "outputs": [],
   "source": [
    "df_2005=pd.read_csv('data/Checkouts_2005_cleaned.csv')"
   ]
  },
  {
   "cell_type": "code",
   "execution_count": 5,
   "metadata": {},
   "outputs": [],
   "source": [
    "#Alternative way to clean titles that leaves colons\n",
    "df_2005['CleanedTitle'] = df_2005['Title'].apply(clean_title_w_colon)\n"
   ]
  },
  {
   "cell_type": "code",
   "execution_count": 7,
   "metadata": {},
   "outputs": [],
   "source": [
    "df_2005.to_csv('data/Checkouts_2005_cleaned_w_colon.csv', index=False)"
   ]
  }
 ],
 "metadata": {
  "kernelspec": {
   "display_name": "erdos_fall_2024",
   "language": "python",
   "name": "python3"
  },
  "language_info": {
   "codemirror_mode": {
    "name": "ipython",
    "version": 3
   },
   "file_extension": ".py",
   "mimetype": "text/x-python",
   "name": "python",
   "nbconvert_exporter": "python",
   "pygments_lexer": "ipython3",
   "version": "3.12.5"
  }
 },
 "nbformat": 4,
 "nbformat_minor": 2
}
